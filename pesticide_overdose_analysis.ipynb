{
  "nbformat": 4,
  "nbformat_minor": 0,
  "metadata": {
    "colab": {
      "name": "sklearn.ipynb",
      "provenance": [],
      "collapsed_sections": [
        "1EUtpaUhn2td"
      ],
      "mount_file_id": "1tW6iUm5f3dNR4AOOEczLG3EaZ_tdy6mV",
      "authorship_tag": "ABX9TyNTCxCMT0W2BwG5M4t5MYp3"
    },
    "kernelspec": {
      "name": "python3",
      "display_name": "Python 3"
    }
  },
  "cells": [
    {
      "cell_type": "markdown",
      "metadata": {
        "id": "oEuHb0or2iQE",
        "colab_type": "text"
      },
      "source": [
        "# Import Libraries"
      ]
    },
    {
      "cell_type": "code",
      "metadata": {
        "id": "rcPxmL682lds",
        "colab_type": "code",
        "colab": {}
      },
      "source": [
        "import pandas as pd \n",
        "import numpy as np "
      ],
      "execution_count": null,
      "outputs": []
    },
    {
      "cell_type": "markdown",
      "metadata": {
        "id": "OQSmmZVd2qIB",
        "colab_type": "text"
      },
      "source": [
        "# Exploring Data"
      ]
    },
    {
      "cell_type": "markdown",
      "metadata": {
        "id": "EZuuupug3hHa",
        "colab_type": "text"
      },
      "source": [
        "Data Description\n",
        "Variable\tDefinition\n",
        "\n",
        "*   ID\tUniqueID\n",
        "*   Estimated_Insects_Count\tEstimated insects count per square meter\n",
        "*   Crop_Type\tCategory of Crop(0,1)\n",
        "*   Soil_Type\tCategory of Soil (0,1)\n",
        "*   Pesticide_Use_Category\tType of pesticides uses (1- Never, 2-Previously Used, 3-Currently Using)\n",
        "*   Number_Doses_Week\tNumber of doses per week\n",
        "*   Number_Weeks_Used\tNumber of weeks used\n",
        "*   Number_Weeks_Quit\tNumber of weeks quit\n",
        "*   Season\tSeason Category (1,2,3)\n",
        "*   Crop_Damage\tCrop Damage Category (0=alive, 1=Damage due to other causes, 2=Damage due to Pesticides)\n",
        " \n",
        "\n",
        "\n"
      ]
    },
    {
      "cell_type": "code",
      "metadata": {
        "id": "ATFaoFZ62paE",
        "colab_type": "code",
        "colab": {}
      },
      "source": [
        "train=pd.read_csv('/content/drive/My Drive/Colab Notebooks/Competitions/Agriculture/train_yaOffsB.csv')"
      ],
      "execution_count": null,
      "outputs": []
    },
    {
      "cell_type": "code",
      "metadata": {
        "id": "14bKOhL-3RDI",
        "colab_type": "code",
        "colab": {
          "base_uri": "https://localhost:8080/",
          "height": 195
        },
        "outputId": "33d72809-b714-4743-eb99-578d52afbbed"
      },
      "source": [
        "train.head()"
      ],
      "execution_count": null,
      "outputs": [
        {
          "output_type": "execute_result",
          "data": {
            "text/html": [
              "<div>\n",
              "<style scoped>\n",
              "    .dataframe tbody tr th:only-of-type {\n",
              "        vertical-align: middle;\n",
              "    }\n",
              "\n",
              "    .dataframe tbody tr th {\n",
              "        vertical-align: top;\n",
              "    }\n",
              "\n",
              "    .dataframe thead th {\n",
              "        text-align: right;\n",
              "    }\n",
              "</style>\n",
              "<table border=\"1\" class=\"dataframe\">\n",
              "  <thead>\n",
              "    <tr style=\"text-align: right;\">\n",
              "      <th></th>\n",
              "      <th>ID</th>\n",
              "      <th>Estimated_Insects_Count</th>\n",
              "      <th>Crop_Type</th>\n",
              "      <th>Soil_Type</th>\n",
              "      <th>Pesticide_Use_Category</th>\n",
              "      <th>Number_Doses_Week</th>\n",
              "      <th>Number_Weeks_Used</th>\n",
              "      <th>Number_Weeks_Quit</th>\n",
              "      <th>Season</th>\n",
              "      <th>Crop_Damage</th>\n",
              "    </tr>\n",
              "  </thead>\n",
              "  <tbody>\n",
              "    <tr>\n",
              "      <th>0</th>\n",
              "      <td>F00000001</td>\n",
              "      <td>188</td>\n",
              "      <td>1</td>\n",
              "      <td>0</td>\n",
              "      <td>1</td>\n",
              "      <td>0</td>\n",
              "      <td>0.0</td>\n",
              "      <td>0</td>\n",
              "      <td>1</td>\n",
              "      <td>0</td>\n",
              "    </tr>\n",
              "    <tr>\n",
              "      <th>1</th>\n",
              "      <td>F00000003</td>\n",
              "      <td>209</td>\n",
              "      <td>1</td>\n",
              "      <td>0</td>\n",
              "      <td>1</td>\n",
              "      <td>0</td>\n",
              "      <td>0.0</td>\n",
              "      <td>0</td>\n",
              "      <td>2</td>\n",
              "      <td>1</td>\n",
              "    </tr>\n",
              "    <tr>\n",
              "      <th>2</th>\n",
              "      <td>F00000004</td>\n",
              "      <td>257</td>\n",
              "      <td>1</td>\n",
              "      <td>0</td>\n",
              "      <td>1</td>\n",
              "      <td>0</td>\n",
              "      <td>0.0</td>\n",
              "      <td>0</td>\n",
              "      <td>2</td>\n",
              "      <td>1</td>\n",
              "    </tr>\n",
              "    <tr>\n",
              "      <th>3</th>\n",
              "      <td>F00000005</td>\n",
              "      <td>257</td>\n",
              "      <td>1</td>\n",
              "      <td>1</td>\n",
              "      <td>1</td>\n",
              "      <td>0</td>\n",
              "      <td>0.0</td>\n",
              "      <td>0</td>\n",
              "      <td>2</td>\n",
              "      <td>1</td>\n",
              "    </tr>\n",
              "    <tr>\n",
              "      <th>4</th>\n",
              "      <td>F00000006</td>\n",
              "      <td>342</td>\n",
              "      <td>1</td>\n",
              "      <td>0</td>\n",
              "      <td>1</td>\n",
              "      <td>0</td>\n",
              "      <td>0.0</td>\n",
              "      <td>0</td>\n",
              "      <td>2</td>\n",
              "      <td>1</td>\n",
              "    </tr>\n",
              "  </tbody>\n",
              "</table>\n",
              "</div>"
            ],
            "text/plain": [
              "          ID  Estimated_Insects_Count  ...  Season  Crop_Damage\n",
              "0  F00000001                      188  ...       1            0\n",
              "1  F00000003                      209  ...       2            1\n",
              "2  F00000004                      257  ...       2            1\n",
              "3  F00000005                      257  ...       2            1\n",
              "4  F00000006                      342  ...       2            1\n",
              "\n",
              "[5 rows x 10 columns]"
            ]
          },
          "metadata": {
            "tags": []
          },
          "execution_count": 3
        }
      ]
    },
    {
      "cell_type": "code",
      "metadata": {
        "id": "gMC8oPW_3XJ9",
        "colab_type": "code",
        "colab": {
          "base_uri": "https://localhost:8080/",
          "height": 302
        },
        "outputId": "5d6a1b13-ea88-4a8b-9f35-b0072afb04da"
      },
      "source": [
        "train.info()"
      ],
      "execution_count": null,
      "outputs": [
        {
          "output_type": "stream",
          "text": [
            "<class 'pandas.core.frame.DataFrame'>\n",
            "RangeIndex: 88858 entries, 0 to 88857\n",
            "Data columns (total 10 columns):\n",
            " #   Column                   Non-Null Count  Dtype  \n",
            "---  ------                   --------------  -----  \n",
            " 0   ID                       88858 non-null  object \n",
            " 1   Estimated_Insects_Count  88858 non-null  int64  \n",
            " 2   Crop_Type                88858 non-null  int64  \n",
            " 3   Soil_Type                88858 non-null  int64  \n",
            " 4   Pesticide_Use_Category   88858 non-null  int64  \n",
            " 5   Number_Doses_Week        88858 non-null  int64  \n",
            " 6   Number_Weeks_Used        79858 non-null  float64\n",
            " 7   Number_Weeks_Quit        88858 non-null  int64  \n",
            " 8   Season                   88858 non-null  int64  \n",
            " 9   Crop_Damage              88858 non-null  int64  \n",
            "dtypes: float64(1), int64(8), object(1)\n",
            "memory usage: 6.8+ MB\n"
          ],
          "name": "stdout"
        }
      ]
    },
    {
      "cell_type": "code",
      "metadata": {
        "id": "MXnO5EZ45SN6",
        "colab_type": "code",
        "colab": {
          "base_uri": "https://localhost:8080/",
          "height": 67
        },
        "outputId": "cb09dbd6-5134-4bf3-d094-e73b3b9d65ce"
      },
      "source": [
        "train['Number_Weeks_Quit'].unique()"
      ],
      "execution_count": null,
      "outputs": [
        {
          "output_type": "execute_result",
          "data": {
            "text/plain": [
              "array([ 0,  1,  9,  4, 13,  3, 14,  6,  2, 12, 15, 10,  8, 11,  7,  5, 17,\n",
              "       18, 16, 20, 21, 19, 22, 24, 23, 27, 25, 28, 26, 29, 30, 31, 33, 32,\n",
              "       36, 37, 34, 39, 44, 41, 35, 47, 46, 40, 42, 38, 43, 45, 49, 50, 48])"
            ]
          },
          "metadata": {
            "tags": []
          },
          "execution_count": 5
        }
      ]
    },
    {
      "cell_type": "markdown",
      "metadata": {
        "id": "YKOvjuTh5NhO",
        "colab_type": "text"
      },
      "source": [
        " Continous Variables\n",
        "\n",
        "1.   Estimated_Insects_Count\n",
        "2.   Number_Weeks_Used\n",
        "3.   Number_Weeks_Quit\n",
        "4.   Number_Doses_\n",
        "\n",
        "Binary Variables ( 0,1) \n",
        "\n",
        "1.   Crop Type\n",
        "2.   Soil Type\n",
        "\n",
        "Categorical Varibale (one hot encoding required) \n",
        "\n",
        "1.   Pesticide Use Category\n",
        "2.   Season \n",
        "\n",
        "\n",
        "\n",
        "\n",
        "\n",
        "\n",
        "\n"
      ]
    },
    {
      "cell_type": "markdown",
      "metadata": {
        "id": "APLDl4tA6yiw",
        "colab_type": "text"
      },
      "source": [
        "# Creating functions for feature engg"
      ]
    },
    {
      "cell_type": "code",
      "metadata": {
        "id": "pNRmoPjF47H5",
        "colab_type": "code",
        "colab": {}
      },
      "source": [
        "def fill_weeks_used(data,knn):\n",
        "  fill=pd.DataFrame(knn.transform(data[['Number_Weeks_Used']]),columns=['Number_Weeks_Used'])\n",
        "  data.drop('Number_Weeks_Used',axis=1,inplace=True)\n",
        "  data=pd.concat([data,fill],axis=1)\n",
        "\n",
        "  return data"
      ],
      "execution_count": null,
      "outputs": []
    },
    {
      "cell_type": "code",
      "metadata": {
        "id": "lWnzfBPu8SMC",
        "colab_type": "code",
        "colab": {}
      },
      "source": [
        "def ohe_variables(data,ohe):\n",
        "  ohe_table=pd.DataFrame(ohe.transform(data[['Pesticide_Use_Category','Season']]),columns=['Never','PrevUsed','Season1','Season2'])\n",
        "  data.drop(['Season','Pesticide_Use_Category'],axis=1,inplace=True)\n",
        "  data=pd.concat([data,ohe_table],axis=1)\n",
        "\n",
        "  return data"
      ],
      "execution_count": null,
      "outputs": []
    },
    {
      "cell_type": "markdown",
      "metadata": {
        "id": "P_8e3j6h9gJz",
        "colab_type": "text"
      },
      "source": [
        "## Applying functions"
      ]
    },
    {
      "cell_type": "code",
      "metadata": {
        "id": "POdxOqbY9i7j",
        "colab_type": "code",
        "colab": {
          "base_uri": "https://localhost:8080/",
          "height": 50
        },
        "outputId": "81892446-b36d-458a-e10f-0e0c787824b8"
      },
      "source": [
        "from sklearn.impute import KNNImputer\n",
        "knn_weeks_used=KNNImputer()\n",
        "knn_weeks_used.fit(train[['Number_Weeks_Used']])"
      ],
      "execution_count": null,
      "outputs": [
        {
          "output_type": "execute_result",
          "data": {
            "text/plain": [
              "KNNImputer(add_indicator=False, copy=True, metric='nan_euclidean',\n",
              "           missing_values=nan, n_neighbors=5, weights='uniform')"
            ]
          },
          "metadata": {
            "tags": []
          },
          "execution_count": 13
        }
      ]
    },
    {
      "cell_type": "code",
      "metadata": {
        "id": "_JBFUwFJ-dXn",
        "colab_type": "code",
        "colab": {}
      },
      "source": [
        "train=fill_weeks_used(train,knn_weeks_used)"
      ],
      "execution_count": null,
      "outputs": []
    },
    {
      "cell_type": "code",
      "metadata": {
        "id": "AGVkyp6TXhBs",
        "colab_type": "code",
        "colab": {}
      },
      "source": [
        "from sklearn.preprocessing import OneHotEncoder\n",
        "ohe=OneHotEncoder(sparse=False,drop='first')\n",
        "ohe_table=pd.DataFrame(ohe.fit_transform(train[['Pesticide_Use_Category','Season']]),columns=['Never','PrevUsed','Season1','Season2'])\n",
        "train=pd.concat([train,ohe_table],axis=1)"
      ],
      "execution_count": null,
      "outputs": []
    },
    {
      "cell_type": "code",
      "metadata": {
        "id": "ZfOzu0MWZRkY",
        "colab_type": "code",
        "colab": {}
      },
      "source": [
        "train.drop(['Season','Pesticide_Use_Category'],axis=1,inplace=True)"
      ],
      "execution_count": null,
      "outputs": []
    },
    {
      "cell_type": "code",
      "metadata": {
        "id": "qQaFOxVTaXWe",
        "colab_type": "code",
        "colab": {
          "base_uri": "https://localhost:8080/",
          "height": 195
        },
        "outputId": "080df3f1-1472-4d9a-c0e3-66cef554e7fb"
      },
      "source": [
        "train.head()"
      ],
      "execution_count": null,
      "outputs": [
        {
          "output_type": "execute_result",
          "data": {
            "text/html": [
              "<div>\n",
              "<style scoped>\n",
              "    .dataframe tbody tr th:only-of-type {\n",
              "        vertical-align: middle;\n",
              "    }\n",
              "\n",
              "    .dataframe tbody tr th {\n",
              "        vertical-align: top;\n",
              "    }\n",
              "\n",
              "    .dataframe thead th {\n",
              "        text-align: right;\n",
              "    }\n",
              "</style>\n",
              "<table border=\"1\" class=\"dataframe\">\n",
              "  <thead>\n",
              "    <tr style=\"text-align: right;\">\n",
              "      <th></th>\n",
              "      <th>ID</th>\n",
              "      <th>Estimated_Insects_Count</th>\n",
              "      <th>Crop_Type</th>\n",
              "      <th>Soil_Type</th>\n",
              "      <th>Number_Doses_Week</th>\n",
              "      <th>Number_Weeks_Quit</th>\n",
              "      <th>Crop_Damage</th>\n",
              "      <th>Number_Weeks_Used</th>\n",
              "      <th>Never</th>\n",
              "      <th>PrevUsed</th>\n",
              "      <th>Season1</th>\n",
              "      <th>Season2</th>\n",
              "    </tr>\n",
              "  </thead>\n",
              "  <tbody>\n",
              "    <tr>\n",
              "      <th>0</th>\n",
              "      <td>F00000001</td>\n",
              "      <td>188</td>\n",
              "      <td>1</td>\n",
              "      <td>0</td>\n",
              "      <td>0</td>\n",
              "      <td>0</td>\n",
              "      <td>0</td>\n",
              "      <td>0.0</td>\n",
              "      <td>0.0</td>\n",
              "      <td>0.0</td>\n",
              "      <td>0.0</td>\n",
              "      <td>0.0</td>\n",
              "    </tr>\n",
              "    <tr>\n",
              "      <th>1</th>\n",
              "      <td>F00000003</td>\n",
              "      <td>209</td>\n",
              "      <td>1</td>\n",
              "      <td>0</td>\n",
              "      <td>0</td>\n",
              "      <td>0</td>\n",
              "      <td>1</td>\n",
              "      <td>0.0</td>\n",
              "      <td>0.0</td>\n",
              "      <td>0.0</td>\n",
              "      <td>1.0</td>\n",
              "      <td>0.0</td>\n",
              "    </tr>\n",
              "    <tr>\n",
              "      <th>2</th>\n",
              "      <td>F00000004</td>\n",
              "      <td>257</td>\n",
              "      <td>1</td>\n",
              "      <td>0</td>\n",
              "      <td>0</td>\n",
              "      <td>0</td>\n",
              "      <td>1</td>\n",
              "      <td>0.0</td>\n",
              "      <td>0.0</td>\n",
              "      <td>0.0</td>\n",
              "      <td>1.0</td>\n",
              "      <td>0.0</td>\n",
              "    </tr>\n",
              "    <tr>\n",
              "      <th>3</th>\n",
              "      <td>F00000005</td>\n",
              "      <td>257</td>\n",
              "      <td>1</td>\n",
              "      <td>1</td>\n",
              "      <td>0</td>\n",
              "      <td>0</td>\n",
              "      <td>1</td>\n",
              "      <td>0.0</td>\n",
              "      <td>0.0</td>\n",
              "      <td>0.0</td>\n",
              "      <td>1.0</td>\n",
              "      <td>0.0</td>\n",
              "    </tr>\n",
              "    <tr>\n",
              "      <th>4</th>\n",
              "      <td>F00000006</td>\n",
              "      <td>342</td>\n",
              "      <td>1</td>\n",
              "      <td>0</td>\n",
              "      <td>0</td>\n",
              "      <td>0</td>\n",
              "      <td>1</td>\n",
              "      <td>0.0</td>\n",
              "      <td>0.0</td>\n",
              "      <td>0.0</td>\n",
              "      <td>1.0</td>\n",
              "      <td>0.0</td>\n",
              "    </tr>\n",
              "  </tbody>\n",
              "</table>\n",
              "</div>"
            ],
            "text/plain": [
              "          ID  Estimated_Insects_Count  Crop_Type  ...  PrevUsed  Season1  Season2\n",
              "0  F00000001                      188          1  ...       0.0      0.0      0.0\n",
              "1  F00000003                      209          1  ...       0.0      1.0      0.0\n",
              "2  F00000004                      257          1  ...       0.0      1.0      0.0\n",
              "3  F00000005                      257          1  ...       0.0      1.0      0.0\n",
              "4  F00000006                      342          1  ...       0.0      1.0      0.0\n",
              "\n",
              "[5 rows x 12 columns]"
            ]
          },
          "metadata": {
            "tags": []
          },
          "execution_count": 17
        }
      ]
    },
    {
      "cell_type": "code",
      "metadata": {
        "id": "NEI97StbahZJ",
        "colab_type": "code",
        "colab": {
          "base_uri": "https://localhost:8080/",
          "height": 336
        },
        "outputId": "30be54e8-7960-4098-fb58-daf57f510325"
      },
      "source": [
        "train.info()"
      ],
      "execution_count": null,
      "outputs": [
        {
          "output_type": "stream",
          "text": [
            "<class 'pandas.core.frame.DataFrame'>\n",
            "RangeIndex: 88858 entries, 0 to 88857\n",
            "Data columns (total 12 columns):\n",
            " #   Column                   Non-Null Count  Dtype  \n",
            "---  ------                   --------------  -----  \n",
            " 0   ID                       88858 non-null  object \n",
            " 1   Estimated_Insects_Count  88858 non-null  int64  \n",
            " 2   Crop_Type                88858 non-null  int64  \n",
            " 3   Soil_Type                88858 non-null  int64  \n",
            " 4   Number_Doses_Week        88858 non-null  int64  \n",
            " 5   Number_Weeks_Quit        88858 non-null  int64  \n",
            " 6   Crop_Damage              88858 non-null  int64  \n",
            " 7   Number_Weeks_Used        88858 non-null  float64\n",
            " 8   Never                    88858 non-null  float64\n",
            " 9   PrevUsed                 88858 non-null  float64\n",
            " 10  Season1                  88858 non-null  float64\n",
            " 11  Season2                  88858 non-null  float64\n",
            "dtypes: float64(5), int64(6), object(1)\n",
            "memory usage: 8.1+ MB\n"
          ],
          "name": "stdout"
        }
      ]
    },
    {
      "cell_type": "markdown",
      "metadata": {
        "id": "ZpGjXa5FArjE",
        "colab_type": "text"
      },
      "source": [
        "# Visualization of Data"
      ]
    },
    {
      "cell_type": "code",
      "metadata": {
        "id": "LoxbRQXHAujI",
        "colab_type": "code",
        "colab": {
          "base_uri": "https://localhost:8080/",
          "height": 70
        },
        "outputId": "5b5ce995-e306-4d52-fd76-1a97e4670edc"
      },
      "source": [
        "import seaborn as sns \n",
        "import matplotlib.pyplot as plt\n"
      ],
      "execution_count": null,
      "outputs": [
        {
          "output_type": "stream",
          "text": [
            "/usr/local/lib/python3.6/dist-packages/statsmodels/tools/_testing.py:19: FutureWarning: pandas.util.testing is deprecated. Use the functions in the public API at pandas.testing instead.\n",
            "  import pandas.util.testing as tm\n"
          ],
          "name": "stderr"
        }
      ]
    },
    {
      "cell_type": "code",
      "metadata": {
        "id": "fdLqL5cbAumD",
        "colab_type": "code",
        "colab": {}
      },
      "source": [
        "train_cropdamage_alive=train[train['Crop_Damage']==0]\n",
        "train_cropdamage_other=train[train['Crop_Damage']==1]\n",
        "train_cropdamage_pesticide=train[train['Crop_Damage']==2]"
      ],
      "execution_count": null,
      "outputs": []
    },
    {
      "cell_type": "code",
      "metadata": {
        "id": "-l90wrpEGx4B",
        "colab_type": "code",
        "colab": {
          "base_uri": "https://localhost:8080/",
          "height": 296
        },
        "outputId": "80defaca-08dd-4b21-cb66-8fc2be269506"
      },
      "source": [
        "sns.distplot(train_cropdamage_alive['Estimated_Insects_Count'],color='blue',axlabel='alive')"
      ],
      "execution_count": null,
      "outputs": [
        {
          "output_type": "execute_result",
          "data": {
            "text/plain": [
              "<matplotlib.axes._subplots.AxesSubplot at 0x7f8c82a17048>"
            ]
          },
          "metadata": {
            "tags": []
          },
          "execution_count": 60
        },
        {
          "output_type": "display_data",
          "data": {
            "image/png": "[encoded data removed]",
            "text/plain": [
              "<Figure size 432x288 with 1 Axes>"
            ]
          },
          "metadata": {
            "tags": [],
            "needs_background": "light"
          }
        }
      ]
    },
    {
      "cell_type": "code",
      "metadata": {
        "id": "odaIw3wMAupX",
        "colab_type": "code",
        "colab": {
          "base_uri": "https://localhost:8080/",
          "height": 497
        },
        "outputId": "8ac8dce4-3795-4f7c-bdc0-e6694bc2147e"
      },
      "source": [
        "fig = plt.figure(figsize=(10,8))\n",
        "ax1 = fig.add_subplot(211)\n",
        "ax2 = fig.add_subplot(212)\n",
        "sns.distplot(train_cropdamage_other['Estimated_Insects_Count'],ax=ax1,color='orange',axlabel='other')\n",
        "sns.distplot(train_cropdamage_pesticide['Estimated_Insects_Count'],ax=ax2,color='red',axlabel='pesticide')\n",
        "plt.show()"
      ],
      "execution_count": null,
      "outputs": [
        {
          "output_type": "display_data",
          "data": {
            "image/png": "[encoded data removed]",
            "text/plain": [
              "<Figure size 720x576 with 2 Axes>"
            ]
          },
          "metadata": {
            "tags": [],
            "needs_background": "light"
          }
        }
      ]
    },
    {
      "cell_type": "code",
      "metadata": {
        "id": "Kpg2kWszINOx",
        "colab_type": "code",
        "colab": {
          "base_uri": "https://localhost:8080/",
          "height": 498
        },
        "outputId": "e96c4e70-4fbf-4c88-ddd9-a6f7ebfde1eb"
      },
      "source": [
        "fig = plt.figure(figsize=(10,8))\n",
        "ax1 = fig.add_subplot(211)\n",
        "ax2 = fig.add_subplot(212)\n",
        "sns.boxplot(train_cropdamage_other['Number_Doses_Week'],ax=ax1,color='orange')\n",
        "sns.boxplot(train_cropdamage_pesticide['Number_Doses_Week'],ax=ax2,color='red')\n",
        "plt.show()"
      ],
      "execution_count": null,
      "outputs": [
        {
          "output_type": "display_data",
          "data": {
            "image/png": "[encoded data removed]",
            "text/plain": [
              "<Figure size 720x576 with 2 Axes>"
            ]
          },
          "metadata": {
            "tags": [],
            "needs_background": "light"
          }
        }
      ]
    },
    {
      "cell_type": "code",
      "metadata": {
        "id": "9co378ZTJBF0",
        "colab_type": "code",
        "colab": {
          "base_uri": "https://localhost:8080/",
          "height": 515
        },
        "outputId": "4ebe48de-f71f-4f9e-f9a9-adc8dc2b8b7c"
      },
      "source": [
        "fig = plt.figure(figsize=(10,8))\n",
        "ax1 = fig.add_subplot(211)\n",
        "ax2 = fig.add_subplot(212)\n",
        "ax3=fig.add_subplot(221)\n",
        "sns.boxplot(train_cropdamage_other['Number_Weeks_Used'],ax=ax1,color='orange')\n",
        "sns.boxplot(train_cropdamage_pesticide['Number_Weeks_Used'],ax=ax2,color='red')\n",
        "sns.boxplot(train_cropdamage_alive['Number_Weeks_Used'],ax=ax3,color='blue')\n",
        "plt.show()\n",
        "fig.align_xlabels\n",
        "fig.align_ylabels"
      ],
      "execution_count": null,
      "outputs": [
        {
          "output_type": "display_data",
          "data": {
            "image/png": "[encoded data removed]",
            "text/plain": [
              "<Figure size 720x576 with 3 Axes>"
            ]
          },
          "metadata": {
            "tags": [],
            "needs_background": "light"
          }
        },
        {
          "output_type": "execute_result",
          "data": {
            "text/plain": [
              "<bound method Figure.align_ylabels of <Figure size 720x576 with 3 Axes>>"
            ]
          },
          "metadata": {
            "tags": []
          },
          "execution_count": 78
        }
      ]
    },
    {
      "cell_type": "markdown",
      "metadata": {
        "id": "1EUtpaUhn2td",
        "colab_type": "text"
      },
      "source": [
        "# Feature Engg"
      ]
    },
    {
      "cell_type": "code",
      "metadata": {
        "id": "ZCatjGDGn4dh",
        "colab_type": "code",
        "colab": {}
      },
      "source": [
        "train['Total_doses']=train['Number_Doses_Week']*train['Number_Weeks_Used']"
      ],
      "execution_count": null,
      "outputs": []
    },
    {
      "cell_type": "code",
      "metadata": {
        "id": "lQs5QkbioHOI",
        "colab_type": "code",
        "colab": {}
      },
      "source": [
        "train['Total_weeks']=train['Number_Doses_Week']+train['Number_Weeks_Quit']"
      ],
      "execution_count": null,
      "outputs": []
    },
    {
      "cell_type": "code",
      "metadata": {
        "id": "-f94PvIye-oR",
        "colab_type": "code",
        "colab": {}
      },
      "source": [
        "from sklearn.preprocessing import StandardScaler\n",
        "ss=StandardScaler()\n",
        "x_scaled_ss=ss.fit_transform(x)"
      ],
      "execution_count": null,
      "outputs": []
    },
    {
      "cell_type": "markdown",
      "metadata": {
        "id": "vqxb7qYga3o4",
        "colab_type": "text"
      },
      "source": [
        "# Basic Preprocessing"
      ]
    },
    {
      "cell_type": "code",
      "metadata": {
        "id": "nfX66BZCa6Ec",
        "colab_type": "code",
        "colab": {}
      },
      "source": [
        "ohe_targets=OneHotEncoder(sparse=False)\n",
        "y_ohe=pd.DataFrame(ohe_targets.fit_transform(train[['Crop_Damage']]),columns=['0','1','2'])\n",
        "y=train['Crop_Damage']"
      ],
      "execution_count": null,
      "outputs": []
    },
    {
      "cell_type": "code",
      "metadata": {
        "id": "r1U5Lqh2a6Gt",
        "colab_type": "code",
        "colab": {}
      },
      "source": [
        "x=train.drop('Crop_Damage',axis=1)"
      ],
      "execution_count": null,
      "outputs": []
    },
    {
      "cell_type": "code",
      "metadata": {
        "id": "h8WyOiV2bjq6",
        "colab_type": "code",
        "colab": {}
      },
      "source": [
        "id=x.drop('ID',axis=1,inplace=True)"
      ],
      "execution_count": null,
      "outputs": []
    },
    {
      "cell_type": "markdown",
      "metadata": {
        "id": "ILtzycfwam1F",
        "colab_type": "text"
      },
      "source": [
        "# Feature analysis"
      ]
    },
    {
      "cell_type": "code",
      "metadata": {
        "id": "j-VrK1XncR5k",
        "colab_type": "code",
        "colab": {}
      },
      "source": [
        "from sklearn.feature_selection import mutual_info_classif\n",
        "relation_targets=pd.DataFrame(mutual_info_classif(x_scaled,y),columns=['Relation_with_target'])\n",
        "relation_targets['columns']=x.columns"
      ],
      "execution_count": null,
      "outputs": []
    },
    {
      "cell_type": "code",
      "metadata": {
        "id": "9mgAKk7eda3X",
        "colab_type": "code",
        "colab": {
          "base_uri": "https://localhost:8080/",
          "height": 402
        },
        "outputId": "bc4c27d2-820a-4a2f-9912-a022d388d7a6"
      },
      "source": [
        "relation_targets.sort_values('Relation_with_target')"
      ],
      "execution_count": null,
      "outputs": [
        {
          "output_type": "execute_result",
          "data": {
            "text/html": [
              "<div>\n",
              "<style scoped>\n",
              "    .dataframe tbody tr th:only-of-type {\n",
              "        vertical-align: middle;\n",
              "    }\n",
              "\n",
              "    .dataframe tbody tr th {\n",
              "        vertical-align: top;\n",
              "    }\n",
              "\n",
              "    .dataframe thead th {\n",
              "        text-align: right;\n",
              "    }\n",
              "</style>\n",
              "<table border=\"1\" class=\"dataframe\">\n",
              "  <thead>\n",
              "    <tr style=\"text-align: right;\">\n",
              "      <th></th>\n",
              "      <th>Relation_with_target</th>\n",
              "      <th>columns</th>\n",
              "    </tr>\n",
              "  </thead>\n",
              "  <tbody>\n",
              "    <tr>\n",
              "      <th>9</th>\n",
              "      <td>0.000023</td>\n",
              "      <td>Season2</td>\n",
              "    </tr>\n",
              "    <tr>\n",
              "      <th>1</th>\n",
              "      <td>0.001022</td>\n",
              "      <td>Crop_Type</td>\n",
              "    </tr>\n",
              "    <tr>\n",
              "      <th>8</th>\n",
              "      <td>0.004575</td>\n",
              "      <td>Season1</td>\n",
              "    </tr>\n",
              "    <tr>\n",
              "      <th>2</th>\n",
              "      <td>0.005418</td>\n",
              "      <td>Soil_Type</td>\n",
              "    </tr>\n",
              "    <tr>\n",
              "      <th>3</th>\n",
              "      <td>0.018350</td>\n",
              "      <td>Number_Doses_Week</td>\n",
              "    </tr>\n",
              "    <tr>\n",
              "      <th>0</th>\n",
              "      <td>0.022916</td>\n",
              "      <td>Estimated_Insects_Count</td>\n",
              "    </tr>\n",
              "    <tr>\n",
              "      <th>7</th>\n",
              "      <td>0.023813</td>\n",
              "      <td>PrevUsed</td>\n",
              "    </tr>\n",
              "    <tr>\n",
              "      <th>4</th>\n",
              "      <td>0.029502</td>\n",
              "      <td>Number_Weeks_Quit</td>\n",
              "    </tr>\n",
              "    <tr>\n",
              "      <th>10</th>\n",
              "      <td>0.031831</td>\n",
              "      <td>Total_doses</td>\n",
              "    </tr>\n",
              "    <tr>\n",
              "      <th>11</th>\n",
              "      <td>0.035775</td>\n",
              "      <td>Total_weeks</td>\n",
              "    </tr>\n",
              "    <tr>\n",
              "      <th>6</th>\n",
              "      <td>0.039128</td>\n",
              "      <td>Never</td>\n",
              "    </tr>\n",
              "    <tr>\n",
              "      <th>5</th>\n",
              "      <td>0.050141</td>\n",
              "      <td>Number_Weeks_Used</td>\n",
              "    </tr>\n",
              "  </tbody>\n",
              "</table>\n",
              "</div>"
            ],
            "text/plain": [
              "    Relation_with_target                  columns\n",
              "9               0.000023                  Season2\n",
              "1               0.001022                Crop_Type\n",
              "8               0.004575                  Season1\n",
              "2               0.005418                Soil_Type\n",
              "3               0.018350        Number_Doses_Week\n",
              "0               0.022916  Estimated_Insects_Count\n",
              "7               0.023813                 PrevUsed\n",
              "4               0.029502        Number_Weeks_Quit\n",
              "10              0.031831              Total_doses\n",
              "11              0.035775              Total_weeks\n",
              "6               0.039128                    Never\n",
              "5               0.050141        Number_Weeks_Used"
            ]
          },
          "metadata": {
            "tags": []
          },
          "execution_count": 39
        }
      ]
    },
    {
      "cell_type": "markdown",
      "metadata": {
        "id": "diGHglGRqRYo",
        "colab_type": "text"
      },
      "source": [
        "# Feature Selection"
      ]
    },
    {
      "cell_type": "code",
      "metadata": {
        "id": "2Twj8-RsqbBH",
        "colab_type": "code",
        "colab": {}
      },
      "source": [
        "features=['Estimated_Insects_Count', 'Crop_Type', 'Soil_Type',\n",
        "       'Number_Weeks_Quit', 'Number_Weeks_Used', 'Never',\n",
        "       'PrevUsed', 'Season1', 'Season2', 'Total_doses']"
      ],
      "execution_count": null,
      "outputs": []
    },
    {
      "cell_type": "code",
      "metadata": {
        "id": "YwiUtIjzqwt7",
        "colab_type": "code",
        "colab": {}
      },
      "source": [
        "x=x[features]"
      ],
      "execution_count": null,
      "outputs": []
    },
    {
      "cell_type": "code",
      "metadata": {
        "id": "Osa7MTSvq5BD",
        "colab_type": "code",
        "colab": {}
      },
      "source": [
        "from sklearn.preprocessing import MinMaxScaler,StandardScaler\n",
        "mms=MinMaxScaler()\n",
        "x_scaled=mms.fit_transform(x)"
      ],
      "execution_count": null,
      "outputs": []
    },
    {
      "cell_type": "code",
      "metadata": {
        "id": "Nd4ujFRYrFF7",
        "colab_type": "code",
        "colab": {}
      },
      "source": [
        "ss=StandardScaler()\n",
        "x_scaled_ss=ss.fit_transform(x)"
      ],
      "execution_count": null,
      "outputs": []
    },
    {
      "cell_type": "markdown",
      "metadata": {
        "id": "drKOROwCdFEZ",
        "colab_type": "text"
      },
      "source": [
        "# Model Selection"
      ]
    },
    {
      "cell_type": "code",
      "metadata": {
        "id": "8JarBetueMvc",
        "colab_type": "code",
        "colab": {}
      },
      "source": [
        "import seaborn as sns\n",
        "sns.pairplot(x,hue=y)"
      ],
      "execution_count": null,
      "outputs": []
    },
    {
      "cell_type": "code",
      "metadata": {
        "id": "IGHamTvDdGSp",
        "colab_type": "code",
        "colab": {}
      },
      "source": [
        "from sklearn.model_selection import StratifiedKFold,cross_val_score\n",
        "from sklearn.metrics import accuracy_score,roc_auc_score,classification_report"
      ],
      "execution_count": null,
      "outputs": []
    },
    {
      "cell_type": "code",
      "metadata": {
        "id": "kwHJaKvpd227",
        "colab_type": "code",
        "colab": {}
      },
      "source": [
        "from sklearn.linear_model import LogisticRegression\n",
        "from sklearn.tree import DecisionTreeClassifier\n",
        "from sklearn.svm import SVC\n",
        "from sklearn.neighbors import KNeighborsClassifier\n",
        "from sklearn.ensemble import RandomForestClassifier"
      ],
      "execution_count": null,
      "outputs": []
    },
    {
      "cell_type": "code",
      "metadata": {
        "id": "mjeryzv-eLev",
        "colab_type": "code",
        "colab": {}
      },
      "source": [
        "models=[]\n",
        "models.append((\"LogReg\",LogisticRegression()))\n",
        "models.append((\"DesicionTree\",DecisionTreeClassifier()))\n",
        "models.append((\"kNN\",KNeighborsClassifier()))\n",
        "models.append((\"RandomForest\",RandomForestClassifier()))"
      ],
      "execution_count": null,
      "outputs": []
    },
    {
      "cell_type": "code",
      "metadata": {
        "id": "PFwBqdRcee8O",
        "colab_type": "code",
        "colab": {}
      },
      "source": [
        "skf_10=StratifiedKFold(n_splits=10,shuffle=True)"
      ],
      "execution_count": null,
      "outputs": []
    },
    {
      "cell_type": "code",
      "metadata": {
        "id": "z8ALhnSHex9Y",
        "colab_type": "code",
        "colab": {
          "base_uri": "https://localhost:8080/",
          "height": 151
        },
        "outputId": "a4f93284-054d-485a-e5af-aafa0b12c557"
      },
      "source": [
        "names=[]\n",
        "result=[]\n",
        "scoring='accuracy'\n",
        "for name,model in models:\n",
        "  cv_result=cross_val_score(model,x_scaled_ss,y,scoring=scoring,cv=skf_10)\n",
        "  print(\"Model created: %s ------> Validation Accuracy: %.4f\" % (name,cv_result.mean()))\n",
        "  print(\"-----------------------------------------------\")"
      ],
      "execution_count": null,
      "outputs": [
        {
          "output_type": "stream",
          "text": [
            "Model created: LogReg ------> Validation Accuracy: 0.84\n",
            "-----------------------------------------------\n",
            "Model created: DesicionTree ------> Validation Accuracy: 0.75\n",
            "-----------------------------------------------\n",
            "Model created: kNN ------> Validation Accuracy: 0.83\n",
            "-----------------------------------------------\n",
            "Model created: RandomForest ------> Validation Accuracy: 0.82\n",
            "-----------------------------------------------\n"
          ],
          "name": "stdout"
        }
      ]
    },
    {
      "cell_type": "markdown",
      "metadata": {
        "id": "-6kTNF04iMi5",
        "colab_type": "text"
      },
      "source": [
        "# Hyperparameter Tuning of Log Reg"
      ]
    },
    {
      "cell_type": "code",
      "metadata": {
        "id": "RITycZpYe2p3",
        "colab_type": "code",
        "colab": {}
      },
      "source": [
        "pip install optuna"
      ],
      "execution_count": null,
      "outputs": []
    },
    {
      "cell_type": "code",
      "metadata": {
        "id": "QTm0D8_wiXGi",
        "colab_type": "code",
        "colab": {
          "base_uri": "https://localhost:8080/",
          "height": 1000
        },
        "outputId": "3d723478-4b8c-45d4-9d45-36291f456dda"
      },
      "source": [
        "import optuna\n",
        "\n",
        "def objective(trial):\n",
        "   \n",
        "    max_iter = trial.suggest_int('max_iter', 100, 300)\n",
        "    tol = int(trial.suggest_float('tol',0.00001,0.001))\n",
        "    \n",
        "    clf = LogisticRegression(\n",
        "        max_iter=max_iter, tol=tol)\n",
        "    \n",
        "    return cross_val_score(\n",
        "        clf, x_scaled_ss, y, n_jobs=-1, cv=3,scoring=scoring).mean()\n",
        "\n",
        "study = optuna.create_study(direction='maximize')\n",
        "study.optimize(objective,n_trials=100)\n",
        "\n",
        "trial = study.best_trial\n",
        "\n",
        "print('Accuracy: {}'.format(trial.value))\n",
        "print(\"Best hyperparameters: {}\".format(trial.params))"
      ],
      "execution_count": null,
      "outputs": [
        {
          "output_type": "stream",
          "text": [
            "[I 2020-08-11 12:44:01,171] Trial 0 finished with value: 0.838551392769955 and parameters: {'max_iter': 297, 'tol': 0.0005070349350292825}. Best is trial 0 with value: 0.838551392769955.\n",
            "[I 2020-08-11 12:44:03,905] Trial 1 finished with value: 0.838551392769955 and parameters: {'max_iter': 214, 'tol': 0.00042097612172422574}. Best is trial 0 with value: 0.838551392769955.\n",
            "[I 2020-08-11 12:44:06,633] Trial 2 finished with value: 0.838551392769955 and parameters: {'max_iter': 197, 'tol': 0.0007436014906851904}. Best is trial 0 with value: 0.838551392769955.\n",
            "[I 2020-08-11 12:44:09,357] Trial 3 finished with value: 0.838551392769955 and parameters: {'max_iter': 128, 'tol': 0.0009408580410104}. Best is trial 0 with value: 0.838551392769955.\n",
            "[I 2020-08-11 12:44:12,103] Trial 4 finished with value: 0.838551392769955 and parameters: {'max_iter': 200, 'tol': 0.0005652581909800169}. Best is trial 0 with value: 0.838551392769955.\n",
            "[I 2020-08-11 12:44:14,861] Trial 5 finished with value: 0.838551392769955 and parameters: {'max_iter': 117, 'tol': 0.00038781967695286965}. Best is trial 0 with value: 0.838551392769955.\n",
            "[I 2020-08-11 12:44:17,565] Trial 6 finished with value: 0.838551392769955 and parameters: {'max_iter': 267, 'tol': 0.0006787049469744581}. Best is trial 0 with value: 0.838551392769955.\n",
            "[I 2020-08-11 12:44:20,270] Trial 7 finished with value: 0.838551392769955 and parameters: {'max_iter': 134, 'tol': 0.00037511885160802707}. Best is trial 0 with value: 0.838551392769955.\n",
            "[I 2020-08-11 12:44:22,978] Trial 8 finished with value: 0.838551392769955 and parameters: {'max_iter': 132, 'tol': 0.000976337387704041}. Best is trial 0 with value: 0.838551392769955.\n",
            "[I 2020-08-11 12:44:25,732] Trial 9 finished with value: 0.838551392769955 and parameters: {'max_iter': 287, 'tol': 0.0005776609857093142}. Best is trial 0 with value: 0.838551392769955.\n",
            "[I 2020-08-11 12:44:28,432] Trial 10 finished with value: 0.838551392769955 and parameters: {'max_iter': 248, 'tol': 7.843635077738227e-05}. Best is trial 0 with value: 0.838551392769955.\n",
            "[I 2020-08-11 12:44:31,171] Trial 11 finished with value: 0.838551392769955 and parameters: {'max_iter': 221, 'tol': 0.0001918194142188956}. Best is trial 0 with value: 0.838551392769955.\n",
            "[I 2020-08-11 12:44:33,889] Trial 12 finished with value: 0.838551392769955 and parameters: {'max_iter': 299, 'tol': 0.0003273669984599921}. Best is trial 0 with value: 0.838551392769955.\n",
            "[I 2020-08-11 12:44:36,598] Trial 13 finished with value: 0.838551392769955 and parameters: {'max_iter': 171, 'tol': 0.00023562690930785355}. Best is trial 0 with value: 0.838551392769955.\n",
            "[I 2020-08-11 12:44:39,294] Trial 14 finished with value: 0.838551392769955 and parameters: {'max_iter': 241, 'tol': 0.0004612100379206152}. Best is trial 0 with value: 0.838551392769955.\n",
            "[I 2020-08-11 12:44:42,047] Trial 15 finished with value: 0.838551392769955 and parameters: {'max_iter': 159, 'tol': 0.0007483096337732323}. Best is trial 0 with value: 0.838551392769955.\n",
            "[I 2020-08-11 12:44:44,775] Trial 16 finished with value: 0.838551392769955 and parameters: {'max_iter': 280, 'tol': 0.0004983765839136407}. Best is trial 0 with value: 0.838551392769955.\n",
            "[I 2020-08-11 12:44:47,490] Trial 17 finished with value: 0.838551392769955 and parameters: {'max_iter': 250, 'tol': 0.0008537650256739445}. Best is trial 0 with value: 0.838551392769955.\n",
            "[I 2020-08-11 12:44:50,200] Trial 18 finished with value: 0.838551392769955 and parameters: {'max_iter': 154, 'tol': 0.0007235359642050302}. Best is trial 0 with value: 0.838551392769955.\n",
            "[I 2020-08-11 12:44:52,931] Trial 19 finished with value: 0.838551392769955 and parameters: {'max_iter': 281, 'tol': 0.0005402011573580265}. Best is trial 0 with value: 0.838551392769955.\n",
            "[I 2020-08-11 12:44:55,647] Trial 20 finished with value: 0.838551392769955 and parameters: {'max_iter': 251, 'tol': 0.0008722364012959246}. Best is trial 0 with value: 0.838551392769955.\n",
            "[I 2020-08-11 12:44:58,378] Trial 21 finished with value: 0.838551392769955 and parameters: {'max_iter': 172, 'tol': 0.0008448192029260199}. Best is trial 0 with value: 0.838551392769955.\n",
            "[I 2020-08-11 12:45:01,084] Trial 22 finished with value: 0.838551392769955 and parameters: {'max_iter': 155, 'tol': 0.0006197963129032837}. Best is trial 0 with value: 0.838551392769955.\n",
            "[I 2020-08-11 12:45:03,813] Trial 23 finished with value: 0.838551392769955 and parameters: {'max_iter': 297, 'tol': 0.0008479179387065733}. Best is trial 0 with value: 0.838551392769955.\n",
            "[I 2020-08-11 12:45:06,548] Trial 24 finished with value: 0.838551392769955 and parameters: {'max_iter': 187, 'tol': 0.0008486213710847763}. Best is trial 0 with value: 0.838551392769955.\n",
            "[I 2020-08-11 12:45:09,287] Trial 25 finished with value: 0.838551392769955 and parameters: {'max_iter': 102, 'tol': 0.0006226716769726625}. Best is trial 0 with value: 0.838551392769955.\n",
            "[I 2020-08-11 12:45:11,966] Trial 26 finished with value: 0.838551392769955 and parameters: {'max_iter': 295, 'tol': 0.0006617054455760458}. Best is trial 0 with value: 0.838551392769955.\n",
            "[I 2020-08-11 12:45:14,696] Trial 27 finished with value: 0.838551392769955 and parameters: {'max_iter': 187, 'tol': 0.0007950723958698383}. Best is trial 0 with value: 0.838551392769955.\n",
            "[I 2020-08-11 12:45:17,424] Trial 28 finished with value: 0.838551392769955 and parameters: {'max_iter': 103, 'tol': 0.0006334126584651794}. Best is trial 0 with value: 0.838551392769955.\n",
            "[I 2020-08-11 12:45:20,134] Trial 29 finished with value: 0.838551392769955 and parameters: {'max_iter': 268, 'tol': 0.0004611760263750878}. Best is trial 0 with value: 0.838551392769955.\n",
            "[I 2020-08-11 12:45:22,837] Trial 30 finished with value: 0.838551392769955 and parameters: {'max_iter': 224, 'tol': 0.000789316272188726}. Best is trial 0 with value: 0.838551392769955.\n",
            "[I 2020-08-11 12:45:25,566] Trial 31 finished with value: 0.838551392769955 and parameters: {'max_iter': 235, 'tol': 0.0006432744322016249}. Best is trial 0 with value: 0.838551392769955.\n",
            "[I 2020-08-11 12:45:28,282] Trial 32 finished with value: 0.838551392769955 and parameters: {'max_iter': 265, 'tol': 0.0004785229802941371}. Best is trial 0 with value: 0.838551392769955.\n",
            "[I 2020-08-11 12:45:31,001] Trial 33 finished with value: 0.838551392769955 and parameters: {'max_iter': 226, 'tol': 0.00031030643242100953}. Best is trial 0 with value: 0.838551392769955.\n",
            "[I 2020-08-11 12:45:33,703] Trial 34 finished with value: 0.838551392769955 and parameters: {'max_iter': 234, 'tol': 0.0004130240456045407}. Best is trial 0 with value: 0.838551392769955.\n",
            "[I 2020-08-11 12:45:36,437] Trial 35 finished with value: 0.838551392769955 and parameters: {'max_iter': 205, 'tol': 0.0009187606159302006}. Best is trial 0 with value: 0.838551392769955.\n",
            "[I 2020-08-11 12:45:39,199] Trial 36 finished with value: 0.838551392769955 and parameters: {'max_iter': 151, 'tol': 0.0009933507191045921}. Best is trial 0 with value: 0.838551392769955.\n",
            "[I 2020-08-11 12:45:41,927] Trial 37 finished with value: 0.838551392769955 and parameters: {'max_iter': 168, 'tol': 0.0009043326380874231}. Best is trial 0 with value: 0.838551392769955.\n",
            "[I 2020-08-11 12:45:44,622] Trial 38 finished with value: 0.838551392769955 and parameters: {'max_iter': 183, 'tol': 0.000714642712554528}. Best is trial 0 with value: 0.838551392769955.\n",
            "[I 2020-08-11 12:45:49,513] Trial 39 finished with value: 0.838551392769955 and parameters: {'max_iter': 148, 'tol': 0.0005761895888513979}. Best is trial 0 with value: 0.838551392769955.\n",
            "[I 2020-08-11 12:45:53,015] Trial 40 finished with value: 0.838551392769955 and parameters: {'max_iter': 208, 'tol': 0.0007921026972156537}. Best is trial 0 with value: 0.838551392769955.\n",
            "[I 2020-08-11 12:45:55,755] Trial 41 finished with value: 0.838551392769955 and parameters: {'max_iter': 118, 'tol': 0.00059124509061287}. Best is trial 0 with value: 0.838551392769955.\n",
            "[I 2020-08-11 12:45:58,487] Trial 42 finished with value: 0.838551392769955 and parameters: {'max_iter': 299, 'tol': 0.0006874229319010532}. Best is trial 0 with value: 0.838551392769955.\n",
            "[I 2020-08-11 12:46:01,203] Trial 43 finished with value: 0.838551392769955 and parameters: {'max_iter': 291, 'tol': 0.000673142877395583}. Best is trial 0 with value: 0.838551392769955.\n",
            "[I 2020-08-11 12:46:03,905] Trial 44 finished with value: 0.838551392769955 and parameters: {'max_iter': 191, 'tol': 0.0007546173754084066}. Best is trial 0 with value: 0.838551392769955.\n",
            "[I 2020-08-11 12:46:06,637] Trial 45 finished with value: 0.838551392769955 and parameters: {'max_iter': 185, 'tol': 0.0007895743167221611}. Best is trial 0 with value: 0.838551392769955.\n",
            "[I 2020-08-11 12:46:09,367] Trial 46 finished with value: 0.838551392769955 and parameters: {'max_iter': 105, 'tol': 0.0005233893365655561}. Best is trial 0 with value: 0.838551392769955.\n",
            "[I 2020-08-11 12:46:12,113] Trial 47 finished with value: 0.838551392769955 and parameters: {'max_iter': 106, 'tol': 0.0006017413775674441}. Best is trial 0 with value: 0.838551392769955.\n",
            "[I 2020-08-11 12:46:14,850] Trial 48 finished with value: 0.838551392769955 and parameters: {'max_iter': 265, 'tol': 0.00044627165448655706}. Best is trial 0 with value: 0.838551392769955.\n",
            "[I 2020-08-11 12:46:17,606] Trial 49 finished with value: 0.838551392769955 and parameters: {'max_iter': 275, 'tol': 0.00034118090663098953}. Best is trial 0 with value: 0.838551392769955.\n",
            "[I 2020-08-11 12:46:20,340] Trial 50 finished with value: 0.838551392769955 and parameters: {'max_iter': 217, 'tol': 0.0007862869644885583}. Best is trial 0 with value: 0.838551392769955.\n",
            "[I 2020-08-11 12:46:23,073] Trial 51 finished with value: 0.838551392769955 and parameters: {'max_iter': 229, 'tol': 0.0005450940502979576}. Best is trial 0 with value: 0.838551392769955.\n",
            "[I 2020-08-11 12:46:25,776] Trial 52 finished with value: 0.838551392769955 and parameters: {'max_iter': 260, 'tol': 0.0004897802640907348}. Best is trial 0 with value: 0.838551392769955.\n",
            "[I 2020-08-11 12:46:28,510] Trial 53 finished with value: 0.838551392769955 and parameters: {'max_iter': 241, 'tol': 0.0003793632025012111}. Best is trial 0 with value: 0.838551392769955.\n",
            "[I 2020-08-11 12:46:31,259] Trial 54 finished with value: 0.838551392769955 and parameters: {'max_iter': 225, 'tol': 0.0002474554536718431}. Best is trial 0 with value: 0.838551392769955.\n",
            "[I 2020-08-11 12:46:33,994] Trial 55 finished with value: 0.838551392769955 and parameters: {'max_iter': 238, 'tol': 0.0003078782323331158}. Best is trial 0 with value: 0.838551392769955.\n",
            "[I 2020-08-11 12:46:36,708] Trial 56 finished with value: 0.838551392769955 and parameters: {'max_iter': 234, 'tol': 0.0004155785181771611}. Best is trial 0 with value: 0.838551392769955.\n",
            "[I 2020-08-11 12:46:39,440] Trial 57 finished with value: 0.838551392769955 and parameters: {'max_iter': 212, 'tol': 0.0002792262898759558}. Best is trial 0 with value: 0.838551392769955.\n",
            "[I 2020-08-11 12:46:42,157] Trial 58 finished with value: 0.838551392769955 and parameters: {'max_iter': 203, 'tol': 0.00010344924185345933}. Best is trial 0 with value: 0.838551392769955.\n",
            "[I 2020-08-11 12:46:44,884] Trial 59 finished with value: 0.838551392769955 and parameters: {'max_iter': 257, 'tol': 0.00018224729515398282}. Best is trial 0 with value: 0.838551392769955.\n",
            "[I 2020-08-11 12:46:47,599] Trial 60 finished with value: 0.838551392769955 and parameters: {'max_iter': 247, 'tol': 0.0003477235885994632}. Best is trial 0 with value: 0.838551392769955.\n",
            "[I 2020-08-11 12:46:50,367] Trial 61 finished with value: 0.838551392769955 and parameters: {'max_iter': 145, 'tol': 0.0009334929839349221}. Best is trial 0 with value: 0.838551392769955.\n",
            "[I 2020-08-11 12:46:53,097] Trial 62 finished with value: 0.838551392769955 and parameters: {'max_iter': 167, 'tol': 0.0009602877880205434}. Best is trial 0 with value: 0.838551392769955.\n",
            "[I 2020-08-11 12:46:55,849] Trial 63 finished with value: 0.838551392769955 and parameters: {'max_iter': 178, 'tol': 0.0009133155409415695}. Best is trial 0 with value: 0.838551392769955.\n",
            "[I 2020-08-11 12:46:58,556] Trial 64 finished with value: 0.838551392769955 and parameters: {'max_iter': 146, 'tol': 0.0009929625713323215}. Best is trial 0 with value: 0.838551392769955.\n",
            "[I 2020-08-11 12:47:01,286] Trial 65 finished with value: 0.838551392769955 and parameters: {'max_iter': 138, 'tol': 0.000904293449447498}. Best is trial 0 with value: 0.838551392769955.\n",
            "[I 2020-08-11 12:47:03,997] Trial 66 finished with value: 0.838551392769955 and parameters: {'max_iter': 202, 'tol': 0.0008878888118143987}. Best is trial 0 with value: 0.838551392769955.\n",
            "[I 2020-08-11 12:47:06,725] Trial 67 finished with value: 0.838551392769955 and parameters: {'max_iter': 164, 'tol': 0.00071842950406025}. Best is trial 0 with value: 0.838551392769955.\n",
            "[I 2020-08-11 12:47:09,429] Trial 68 finished with value: 0.838551392769955 and parameters: {'max_iter': 115, 'tol': 0.0005824177018103661}. Best is trial 0 with value: 0.838551392769955.\n",
            "[I 2020-08-11 12:47:12,167] Trial 69 finished with value: 0.838551392769955 and parameters: {'max_iter': 119, 'tol': 0.0007167775602479765}. Best is trial 0 with value: 0.838551392769955.\n",
            "[I 2020-08-11 12:47:14,881] Trial 70 finished with value: 0.838551392769955 and parameters: {'max_iter': 127, 'tol': 0.0005756090663287703}. Best is trial 0 with value: 0.838551392769955.\n",
            "[I 2020-08-11 12:47:17,609] Trial 71 finished with value: 0.838551392769955 and parameters: {'max_iter': 279, 'tol': 0.0005166513136215394}. Best is trial 0 with value: 0.838551392769955.\n",
            "[I 2020-08-11 12:47:20,290] Trial 72 finished with value: 0.838551392769955 and parameters: {'max_iter': 272, 'tol': 0.0005416563208256428}. Best is trial 0 with value: 0.838551392769955.\n",
            "[I 2020-08-11 12:47:23,057] Trial 73 finished with value: 0.838551392769955 and parameters: {'max_iter': 260, 'tol': 0.0004478658824185606}. Best is trial 0 with value: 0.838551392769955.\n",
            "[I 2020-08-11 12:47:25,758] Trial 74 finished with value: 0.838551392769955 and parameters: {'max_iter': 243, 'tol': 0.000363088244335541}. Best is trial 0 with value: 0.838551392769955.\n",
            "[I 2020-08-11 12:47:28,481] Trial 75 finished with value: 0.838551392769955 and parameters: {'max_iter': 273, 'tol': 0.0003886204004758128}. Best is trial 0 with value: 0.838551392769955.\n",
            "[I 2020-08-11 12:47:31,183] Trial 76 finished with value: 0.838551392769955 and parameters: {'max_iter': 217, 'tol': 0.0002403944231214447}. Best is trial 0 with value: 0.838551392769955.\n",
            "[I 2020-08-11 12:47:33,932] Trial 77 finished with value: 0.838551392769955 and parameters: {'max_iter': 258, 'tol': 0.00043723329078024193}. Best is trial 0 with value: 0.838551392769955.\n",
            "[I 2020-08-11 12:47:36,619] Trial 78 finished with value: 0.838551392769955 and parameters: {'max_iter': 229, 'tol': 0.00031176877489315753}. Best is trial 0 with value: 0.838551392769955.\n",
            "[I 2020-08-11 12:47:39,350] Trial 79 finished with value: 0.838551392769955 and parameters: {'max_iter': 237, 'tol': 0.000483530864079027}. Best is trial 0 with value: 0.838551392769955.\n",
            "[I 2020-08-11 12:47:42,049] Trial 80 finished with value: 0.838551392769955 and parameters: {'max_iter': 211, 'tol': 0.00027023600334674224}. Best is trial 0 with value: 0.838551392769955.\n",
            "[I 2020-08-11 12:47:44,792] Trial 81 finished with value: 0.838551392769955 and parameters: {'max_iter': 228, 'tol': 3.479188669646484e-05}. Best is trial 0 with value: 0.838551392769955.\n",
            "[I 2020-08-11 12:47:47,520] Trial 82 finished with value: 0.838551392769955 and parameters: {'max_iter': 221, 'tol': 0.00013537252578135767}. Best is trial 0 with value: 0.838551392769955.\n",
            "[I 2020-08-11 12:47:50,243] Trial 83 finished with value: 0.838551392769955 and parameters: {'max_iter': 196, 'tol': 0.0001925365769406973}. Best is trial 0 with value: 0.838551392769955.\n",
            "[I 2020-08-11 12:47:52,964] Trial 84 finished with value: 0.838551392769955 and parameters: {'max_iter': 246, 'tol': 0.00011837694054814691}. Best is trial 0 with value: 0.838551392769955.\n",
            "[I 2020-08-11 12:47:55,713] Trial 85 finished with value: 0.838551392769955 and parameters: {'max_iter': 254, 'tol': 0.0002847329220646985}. Best is trial 0 with value: 0.838551392769955.\n",
            "[I 2020-08-11 12:47:58,429] Trial 86 finished with value: 0.838551392769955 and parameters: {'max_iter': 197, 'tol': 0.00018536617421448096}. Best is trial 0 with value: 0.838551392769955.\n",
            "[I 2020-08-11 12:48:01,155] Trial 87 finished with value: 0.838551392769955 and parameters: {'max_iter': 212, 'tol': 0.00020577846501366255}. Best is trial 0 with value: 0.838551392769955.\n",
            "[I 2020-08-11 12:48:03,912] Trial 88 finished with value: 0.838551392769955 and parameters: {'max_iter': 172, 'tol': 0.0001331399722809321}. Best is trial 0 with value: 0.838551392769955.\n",
            "[I 2020-08-11 12:48:06,652] Trial 89 finished with value: 0.838551392769955 and parameters: {'max_iter': 178, 'tol': 8.412130924285394e-05}. Best is trial 0 with value: 0.838551392769955.\n",
            "[I 2020-08-11 12:48:09,364] Trial 90 finished with value: 0.838551392769955 and parameters: {'max_iter': 146, 'tol': 0.000948276098285356}. Best is trial 0 with value: 0.838551392769955.\n",
            "[I 2020-08-11 12:48:12,171] Trial 91 finished with value: 0.838551392769955 and parameters: {'max_iter': 142, 'tol': 0.0009430540246961474}. Best is trial 0 with value: 0.838551392769955.\n",
            "[I 2020-08-11 12:48:14,912] Trial 92 finished with value: 0.838551392769955 and parameters: {'max_iter': 139, 'tol': 0.0009784632568085425}. Best is trial 0 with value: 0.838551392769955.\n",
            "[I 2020-08-11 12:48:17,659] Trial 93 finished with value: 0.838551392769955 and parameters: {'max_iter': 158, 'tol': 0.0008966219006247807}. Best is trial 0 with value: 0.838551392769955.\n",
            "[I 2020-08-11 12:48:20,349] Trial 94 finished with value: 0.838551392769955 and parameters: {'max_iter': 166, 'tol': 0.0008759260768004667}. Best is trial 0 with value: 0.838551392769955.\n",
            "[I 2020-08-11 12:48:23,104] Trial 95 finished with value: 0.838551392769955 and parameters: {'max_iter': 164, 'tol': 0.0008282493914793827}. Best is trial 0 with value: 0.838551392769955.\n",
            "[I 2020-08-11 12:48:25,831] Trial 96 finished with value: 0.838551392769955 and parameters: {'max_iter': 126, 'tol': 0.000993775296184795}. Best is trial 0 with value: 0.838551392769955.\n",
            "[I 2020-08-11 12:48:28,551] Trial 97 finished with value: 0.838551392769955 and parameters: {'max_iter': 114, 'tol': 0.0009650050870689008}. Best is trial 0 with value: 0.838551392769955.\n",
            "[I 2020-08-11 12:48:31,253] Trial 98 finished with value: 0.838551392769955 and parameters: {'max_iter': 130, 'tol': 0.0008286975452547782}. Best is trial 0 with value: 0.838551392769955.\n",
            "[I 2020-08-11 12:48:33,973] Trial 99 finished with value: 0.838551392769955 and parameters: {'max_iter': 123, 'tol': 0.000520695445718813}. Best is trial 0 with value: 0.838551392769955.\n"
          ],
          "name": "stderr"
        },
        {
          "output_type": "stream",
          "text": [
            "Accuracy: 0.838551392769955\n",
            "Best hyperparameters: {'max_iter': 297, 'tol': 0.0005070349350292825}\n"
          ],
          "name": "stdout"
        }
      ]
    },
    {
      "cell_type": "markdown",
      "metadata": {
        "id": "MEZyxel1kZ5G",
        "colab_type": "text"
      },
      "source": [
        "# Hyperparameter Tuning of RandomForest"
      ]
    },
    {
      "cell_type": "code",
      "metadata": {
        "id": "Njs431BZidk4",
        "colab_type": "code",
        "colab": {
          "base_uri": "https://localhost:8080/",
          "height": 1000
        },
        "outputId": "b0609925-f671-4491-ab2e-b6c16165071b"
      },
      "source": [
        "import optuna\n",
        "\n",
        "def objective(trial):\n",
        "   \n",
        "    n_estimators = trial.suggest_int('n_estimators', 100, 200)\n",
        "    max_depth = int(trial.suggest_float('max_depth', 1, 32, log=True))\n",
        "    min_samples_split = trial.suggest_int('min_samples_split', 2, 14)\n",
        "    min_samples_leaf = trial.suggest_int('min_samples_leaf', 1, 14)\n",
        "    max_samples = trial.suggest_uniform('max_samples', 0.6, 0.99)\n",
        "    \n",
        "    clf = RandomForestClassifier(\n",
        "        n_estimators=n_estimators, max_depth=max_depth,min_samples_leaf=min_samples_leaf,\n",
        "        min_samples_split=min_samples_split,max_samples=max_samples,criterion='entropy')\n",
        "    \n",
        "    return cross_val_score(\n",
        "        clf, x, y, n_jobs=-1, cv=5,scoring=scoring).mean()\n",
        "\n",
        "study = optuna.create_study(direction='maximize')\n",
        "study.optimize(objective,n_trials=100)\n",
        "\n",
        "trial = study.best_trial\n",
        "\n",
        "print('Accuracy: {}'.format(trial.value))\n",
        "print(\"Best hyperparameters: {}\".format(trial.params))"
      ],
      "execution_count": null,
      "outputs": [
        {
          "output_type": "stream",
          "text": [
            "[I 2020-08-11 13:28:08,426] Trial 0 finished with value: 0.840385780265762 and parameters: {'n_estimators': 150, 'max_depth': 7.415748728529372, 'min_samples_split': 14, 'min_samples_leaf': 4, 'max_samples': 0.6436247239788194}. Best is trial 0 with value: 0.840385780265762.\n",
            "[I 2020-08-11 13:28:32,437] Trial 1 finished with value: 0.8439982720623581 and parameters: {'n_estimators': 117, 'max_depth': 16.602822625951486, 'min_samples_split': 4, 'min_samples_leaf': 11, 'max_samples': 0.6744448328703871}. Best is trial 1 with value: 0.8439982720623581.\n",
            "[I 2020-08-11 13:29:02,380] Trial 2 finished with value: 0.8442346007683492 and parameters: {'n_estimators': 130, 'max_depth': 15.702462994556367, 'min_samples_split': 2, 'min_samples_leaf': 7, 'max_samples': 0.8163325242663281}. Best is trial 2 with value: 0.8442346007683492.\n",
            "[I 2020-08-11 13:29:42,844] Trial 3 finished with value: 0.8442233572430651 and parameters: {'n_estimators': 194, 'max_depth': 25.353315023813636, 'min_samples_split': 10, 'min_samples_leaf': 7, 'max_samples': 0.6085488210613509}. Best is trial 2 with value: 0.8442346007683492.\n",
            "[I 2020-08-11 13:29:50,620] Trial 4 finished with value: 0.8354678249441816 and parameters: {'n_estimators': 156, 'max_depth': 1.1140570548847053, 'min_samples_split': 4, 'min_samples_leaf': 4, 'max_samples': 0.6758123387603175}. Best is trial 2 with value: 0.8442346007683492.\n",
            "[I 2020-08-11 13:29:58,947] Trial 5 finished with value: 0.8354678249441816 and parameters: {'n_estimators': 157, 'max_depth': 1.169415738580898, 'min_samples_split': 10, 'min_samples_leaf': 14, 'max_samples': 0.9240430850337793}. Best is trial 2 with value: 0.8442346007683492.\n",
            "[I 2020-08-11 13:30:06,675] Trial 6 finished with value: 0.8354678249441816 and parameters: {'n_estimators': 155, 'max_depth': 1.719308881508953, 'min_samples_split': 10, 'min_samples_leaf': 3, 'max_samples': 0.7288028180774682}. Best is trial 2 with value: 0.8442346007683492.\n",
            "[I 2020-08-11 13:30:14,761] Trial 7 finished with value: 0.8354678249441816 and parameters: {'n_estimators': 156, 'max_depth': 1.2091610620191942, 'min_samples_split': 14, 'min_samples_leaf': 8, 'max_samples': 0.8069167700640507}. Best is trial 2 with value: 0.8442346007683492.\n",
            "[I 2020-08-11 13:30:25,860] Trial 8 finished with value: 0.8354678249441816 and parameters: {'n_estimators': 188, 'max_depth': 2.76405766853072, 'min_samples_split': 11, 'min_samples_leaf': 14, 'max_samples': 0.605145292725656}. Best is trial 2 with value: 0.8442346007683492.\n",
            "[I 2020-08-11 13:31:03,192] Trial 9 finished with value: 0.8433680552138592 and parameters: {'n_estimators': 180, 'max_depth': 12.269941746455425, 'min_samples_split': 12, 'min_samples_leaf': 6, 'max_samples': 0.8978975785536378}. Best is trial 2 with value: 0.8442346007683492.\n",
            "[I 2020-08-11 13:31:12,678] Trial 10 finished with value: 0.8403745259750638 and parameters: {'n_estimators': 101, 'max_depth': 4.735747506252031, 'min_samples_split': 2, 'min_samples_leaf': 1, 'max_samples': 0.835681732833865}. Best is trial 2 with value: 0.8442346007683492.\n",
            "[I 2020-08-11 13:31:40,490] Trial 11 finished with value: 0.8446172409527554 and parameters: {'n_estimators': 122, 'max_depth': 31.443953355039326, 'min_samples_split': 7, 'min_samples_leaf': 9, 'max_samples': 0.7542887443147166}. Best is trial 11 with value: 0.8446172409527554.\n",
            "[I 2020-08-11 13:32:08,998] Trial 12 finished with value: 0.8443921678039821 and parameters: {'n_estimators': 125, 'max_depth': 30.88279858747912, 'min_samples_split': 7, 'min_samples_leaf': 10, 'max_samples': 0.7707310989188959}. Best is trial 11 with value: 0.8446172409527554.\n",
            "[I 2020-08-11 13:32:37,412] Trial 13 finished with value: 0.8444934450215932 and parameters: {'n_estimators': 127, 'max_depth': 28.340226409884412, 'min_samples_split': 7, 'min_samples_leaf': 10, 'max_samples': 0.7445372037185286}. Best is trial 11 with value: 0.8446172409527554.\n",
            "[I 2020-08-11 13:33:00,555] Trial 14 finished with value: 0.844482191997414 and parameters: {'n_estimators': 106, 'max_depth': 29.424283254313547, 'min_samples_split': 7, 'min_samples_leaf': 11, 'max_samples': 0.7301534416280095}. Best is trial 11 with value: 0.8446172409527554.\n",
            "[I 2020-08-11 13:33:19,411] Trial 15 finished with value: 0.8411960657654344 and parameters: {'n_estimators': 136, 'max_depth': 8.359326299689318, 'min_samples_split': 5, 'min_samples_leaf': 9, 'max_samples': 0.7450473347400856}. Best is trial 11 with value: 0.8446172409527554.\n",
            "[I 2020-08-11 13:33:45,625] Trial 16 finished with value: 0.8443471449418517 and parameters: {'n_estimators': 113, 'max_depth': 22.302319507445368, 'min_samples_split': 8, 'min_samples_leaf': 12, 'max_samples': 0.8492929297009632}. Best is trial 11 with value: 0.8446172409527554.\n",
            "[I 2020-08-11 13:34:10,372] Trial 17 finished with value: 0.8431767468369598 and parameters: {'n_estimators': 140, 'max_depth': 11.767199689326509, 'min_samples_split': 8, 'min_samples_leaf': 13, 'max_samples': 0.7709370035241805}. Best is trial 11 with value: 0.8446172409527554.\n",
            "[I 2020-08-11 13:34:27,326] Trial 18 finished with value: 0.8403745259750638 and parameters: {'n_estimators': 171, 'max_depth': 4.546006442444711, 'min_samples_split': 6, 'min_samples_leaf': 9, 'max_samples': 0.975997046841494}. Best is trial 11 with value: 0.8446172409527554.\n",
            "[I 2020-08-11 13:34:54,803] Trial 19 finished with value: 0.8450223745203264 and parameters: {'n_estimators': 121, 'max_depth': 20.361764038678608, 'min_samples_split': 9, 'min_samples_leaf': 6, 'max_samples': 0.6825086541719386}. Best is trial 19 with value: 0.8450223745203264.\n",
            "[I 2020-08-11 13:35:21,021] Trial 20 finished with value: 0.8441558245330189 and parameters: {'n_estimators': 115, 'max_depth': 18.83820740550318, 'min_samples_split': 9, 'min_samples_leaf': 5, 'max_samples': 0.6844258242495475}. Best is trial 19 with value: 0.8450223745203264.\n",
            "[I 2020-08-11 13:35:48,373] Trial 21 finished with value: 0.8447410438497739 and parameters: {'n_estimators': 125, 'max_depth': 27.909064364027323, 'min_samples_split': 6, 'min_samples_leaf': 9, 'max_samples': 0.7009278389266665}. Best is trial 19 with value: 0.8450223745203264.\n",
            "[I 2020-08-11 13:36:15,147] Trial 22 finished with value: 0.8438969840793329 and parameters: {'n_estimators': 141, 'max_depth': 13.004823613601904, 'min_samples_split': 5, 'min_samples_leaf': 8, 'max_samples': 0.6843249684097817}. Best is trial 19 with value: 0.8450223745203264.\n",
            "[I 2020-08-11 13:36:43,825] Trial 23 finished with value: 0.8445159523364705 and parameters: {'n_estimators': 121, 'max_depth': 21.691661497506587, 'min_samples_split': 6, 'min_samples_leaf': 6, 'max_samples': 0.6374326762673673}. Best is trial 19 with value: 0.8450223745203264.\n",
            "[I 2020-08-11 13:37:06,907] Trial 24 finished with value: 0.8443246331941567 and parameters: {'n_estimators': 105, 'max_depth': 29.778994303932542, 'min_samples_split': 9, 'min_samples_leaf': 9, 'max_samples': 0.7050926540498944}. Best is trial 19 with value: 0.8450223745203264.\n",
            "[I 2020-08-11 13:37:22,704] Trial 25 finished with value: 0.8423214574729473 and parameters: {'n_estimators': 111, 'max_depth': 9.066613253085542, 'min_samples_split': 12, 'min_samples_leaf': 6, 'max_samples': 0.6426224490058406}. Best is trial 19 with value: 0.8450223745203264.\n",
            "[I 2020-08-11 13:37:53,975] Trial 26 finished with value: 0.8447185150040681 and parameters: {'n_estimators': 132, 'max_depth': 31.41260038010049, 'min_samples_split': 6, 'min_samples_leaf': 8, 'max_samples': 0.7805207326012671}. Best is trial 19 with value: 0.8450223745203264.\n",
            "[I 2020-08-11 13:38:31,515] Trial 27 finished with value: 0.8410159977475209 and parameters: {'n_estimators': 133, 'max_depth': 20.58294713309967, 'min_samples_split': 3, 'min_samples_leaf': 2, 'max_samples': 0.7869677552167615}. Best is trial 19 with value: 0.8450223745203264.\n",
            "[I 2020-08-11 13:39:02,854] Trial 28 finished with value: 0.8440432828925548 and parameters: {'n_estimators': 144, 'max_depth': 15.74303711768099, 'min_samples_split': 5, 'min_samples_leaf': 5, 'max_samples': 0.7166841167688521}. Best is trial 19 with value: 0.8450223745203264.\n",
            "[I 2020-08-11 13:39:18,897] Trial 29 finished with value: 0.8403745259750638 and parameters: {'n_estimators': 149, 'max_depth': 6.364648260731612, 'min_samples_split': 6, 'min_samples_leaf': 7, 'max_samples': 0.6540207479659551}. Best is trial 19 with value: 0.8450223745203264.\n",
            "[I 2020-08-11 13:39:40,363] Trial 30 finished with value: 0.8424114829328986 and parameters: {'n_estimators': 134, 'max_depth': 10.464751085065181, 'min_samples_split': 9, 'min_samples_leaf': 4, 'max_samples': 0.701615014823014}. Best is trial 19 with value: 0.8450223745203264.\n",
            "[I 2020-08-11 13:40:08,783] Trial 31 finished with value: 0.844639747634373 and parameters: {'n_estimators': 122, 'max_depth': 31.288268826318976, 'min_samples_split': 7, 'min_samples_leaf': 8, 'max_samples': 0.7650969623794932}. Best is trial 19 with value: 0.8450223745203264.\n",
            "[I 2020-08-11 13:40:37,870] Trial 32 finished with value: 0.844414670052782 and parameters: {'n_estimators': 122, 'max_depth': 24.476861197563764, 'min_samples_split': 8, 'min_samples_leaf': 8, 'max_samples': 0.78397810440407}. Best is trial 19 with value: 0.8450223745203264.\n",
            "[I 2020-08-11 13:41:07,402] Trial 33 finished with value: 0.8443583947997324 and parameters: {'n_estimators': 127, 'max_depth': 16.230037132719165, 'min_samples_split': 4, 'min_samples_leaf': 10, 'max_samples': 0.8673984421564571}. Best is trial 19 with value: 0.8450223745203264.\n",
            "[I 2020-08-11 13:41:35,578] Trial 34 finished with value: 0.8443584017655889 and parameters: {'n_estimators': 116, 'max_depth': 18.11193977986564, 'min_samples_split': 6, 'min_samples_leaf': 7, 'max_samples': 0.8172947560196651}. Best is trial 19 with value: 0.8450223745203264.\n",
            "[I 2020-08-11 13:42:00,125] Trial 35 finished with value: 0.8439982726956178 and parameters: {'n_estimators': 107, 'max_depth': 24.282443047087938, 'min_samples_split': 5, 'min_samples_leaf': 5, 'max_samples': 0.6591879685052302}. Best is trial 19 with value: 0.8450223745203264.\n",
            "[I 2020-08-11 13:42:29,526] Trial 36 finished with value: 0.8442233483774298 and parameters: {'n_estimators': 133, 'max_depth': 25.27980484818643, 'min_samples_split': 3, 'min_samples_leaf': 11, 'max_samples': 0.7572689891553895}. Best is trial 19 with value: 0.8450223745203264.\n",
            "[I 2020-08-11 13:42:53,586] Trial 37 finished with value: 0.8442233477441702 and parameters: {'n_estimators': 120, 'max_depth': 14.53588604498932, 'min_samples_split': 9, 'min_samples_leaf': 7, 'max_samples': 0.6929404925521194}. Best is trial 19 with value: 0.8450223745203264.\n",
            "[I 2020-08-11 13:43:16,069] Trial 38 finished with value: 0.8443021322118762 and parameters: {'n_estimators': 100, 'max_depth': 19.155879240149698, 'min_samples_split': 7, 'min_samples_leaf': 8, 'max_samples': 0.722479419675941}. Best is trial 19 with value: 0.8450223745203264.\n",
            "[I 2020-08-11 13:43:52,817] Trial 39 finished with value: 0.8441445645429836 and parameters: {'n_estimators': 147, 'max_depth': 31.763619604520787, 'min_samples_split': 11, 'min_samples_leaf': 6, 'max_samples': 0.8031214830700801}. Best is trial 19 with value: 0.8450223745203264.\n",
            "[I 2020-08-11 13:44:25,149] Trial 40 finished with value: 0.8444484297585788 and parameters: {'n_estimators': 165, 'max_depth': 31.983197994368357, 'min_samples_split': 4, 'min_samples_leaf': 11, 'max_samples': 0.6196689958914494}. Best is trial 19 with value: 0.8450223745203264.\n",
            "[I 2020-08-11 13:44:54,493] Trial 41 finished with value: 0.8445272110599864 and parameters: {'n_estimators': 129, 'max_depth': 26.294288271594006, 'min_samples_split': 7, 'min_samples_leaf': 9, 'max_samples': 0.7576957457911719}. Best is trial 19 with value: 0.8450223745203264.\n",
            "[I 2020-08-11 13:45:21,625] Trial 42 finished with value: 0.8441783324811558 and parameters: {'n_estimators': 119, 'max_depth': 31.934539588072827, 'min_samples_split': 8, 'min_samples_leaf': 8, 'max_samples': 0.7394778566652416}. Best is trial 19 with value: 0.8450223745203264.\n",
            "[I 2020-08-11 13:45:46,475] Trial 43 finished with value: 0.8447072784446403 and parameters: {'n_estimators': 110, 'max_depth': 22.385710112977385, 'min_samples_split': 6, 'min_samples_leaf': 10, 'max_samples': 0.7669871210013395}. Best is trial 19 with value: 0.8450223745203264.\n",
            "[I 2020-08-11 13:46:12,028] Trial 44 finished with value: 0.8444934519874494 and parameters: {'n_estimators': 110, 'max_depth': 22.085992692843107, 'min_samples_split': 6, 'min_samples_leaf': 10, 'max_samples': 0.8153544914608076}. Best is trial 19 with value: 0.8450223745203264.\n",
            "[I 2020-08-11 13:46:21,317] Trial 45 finished with value: 0.8401044343969778 and parameters: {'n_estimators': 126, 'max_depth': 3.375343917573998, 'min_samples_split': 5, 'min_samples_leaf': 12, 'max_samples': 0.6720680621597365}. Best is trial 19 with value: 0.8450223745203264.\n",
            "[I 2020-08-11 13:46:48,410] Trial 46 finished with value: 0.8447185226031839 and parameters: {'n_estimators': 117, 'max_depth': 17.541747850588123, 'min_samples_split': 10, 'min_samples_leaf': 10, 'max_samples': 0.7744180044518666}. Best is trial 19 with value: 0.8450223745203264.\n",
            "[I 2020-08-11 13:47:12,551] Trial 47 finished with value: 0.8443921652709433 and parameters: {'n_estimators': 102, 'max_depth': 16.36839204995033, 'min_samples_split': 11, 'min_samples_leaf': 10, 'max_samples': 0.8313532386412541}. Best is trial 19 with value: 0.8450223745203264.\n",
            "[I 2020-08-11 13:47:41,061] Trial 48 finished with value: 0.8437169299931317 and parameters: {'n_estimators': 138, 'max_depth': 14.756781060038453, 'min_samples_split': 10, 'min_samples_leaf': 12, 'max_samples': 0.7909701644894856}. Best is trial 19 with value: 0.8450223745203264.\n",
            "[I 2020-08-11 13:47:47,212] Trial 49 finished with value: 0.8354678249441816 and parameters: {'n_estimators': 116, 'max_depth': 1.876912622578157, 'min_samples_split': 12, 'min_samples_leaf': 11, 'max_samples': 0.8638241579533461}. Best is trial 19 with value: 0.8450223745203264.\n",
            "[I 2020-08-11 13:48:07,200] Trial 50 finished with value: 0.8437394360414899 and parameters: {'n_estimators': 109, 'max_depth': 12.659835281876271, 'min_samples_split': 10, 'min_samples_leaf': 9, 'max_samples': 0.7187461448368896}. Best is trial 19 with value: 0.8450223745203264.\n",
            "[I 2020-08-11 13:48:36,821] Trial 51 finished with value: 0.8448198118527287 and parameters: {'n_estimators': 123, 'max_depth': 27.041041037336896, 'min_samples_split': 7, 'min_samples_leaf': 7, 'max_samples': 0.7753287459093714}. Best is trial 19 with value: 0.8450223745203264.\n",
            "[I 2020-08-11 13:49:07,306] Trial 52 finished with value: 0.8447747965897143 and parameters: {'n_estimators': 131, 'max_depth': 26.314902036773255, 'min_samples_split': 6, 'min_samples_leaf': 7, 'max_samples': 0.7374586425747394}. Best is trial 19 with value: 0.8450223745203264.\n",
            "[I 2020-08-11 13:49:37,345] Trial 53 finished with value: 0.8444484234259821 and parameters: {'n_estimators': 129, 'max_depth': 27.132614395976116, 'min_samples_split': 9, 'min_samples_leaf': 7, 'max_samples': 0.7379204045540426}. Best is trial 19 with value: 0.8450223745203264.\n",
            "[I 2020-08-11 13:50:08,696] Trial 54 finished with value: 0.8443358836852972 and parameters: {'n_estimators': 131, 'max_depth': 18.60307167083156, 'min_samples_split': 8, 'min_samples_leaf': 6, 'max_samples': 0.7771560635466779}. Best is trial 19 with value: 0.8450223745203264.\n",
            "[I 2020-08-11 13:50:39,809] Trial 55 finished with value: 0.8433455440994239 and parameters: {'n_estimators': 125, 'max_depth': 26.549468916945276, 'min_samples_split': 7, 'min_samples_leaf': 4, 'max_samples': 0.704090684136613}. Best is trial 19 with value: 0.8450223745203264.\n",
            "[I 2020-08-11 13:51:13,056] Trial 56 finished with value: 0.8441220603944044 and parameters: {'n_estimators': 137, 'max_depth': 19.846382096800596, 'min_samples_split': 10, 'min_samples_leaf': 5, 'max_samples': 0.747727752362731}. Best is trial 19 with value: 0.8450223745203264.\n",
            "[I 2020-08-11 13:51:47,614] Trial 57 finished with value: 0.8440657927404708 and parameters: {'n_estimators': 142, 'max_depth': 23.28240264543829, 'min_samples_split': 6, 'min_samples_leaf': 7, 'max_samples': 0.8011216302589549}. Best is trial 19 with value: 0.8450223745203264.\n",
            "[I 2020-08-11 13:52:13,314] Trial 58 finished with value: 0.8441558314988752 and parameters: {'n_estimators': 114, 'max_depth': 28.093558699307913, 'min_samples_split': 7, 'min_samples_leaf': 6, 'max_samples': 0.6685611066787691}. Best is trial 19 with value: 0.8450223745203264.\n",
            "[I 2020-08-11 13:52:33,324] Trial 59 finished with value: 0.8424902674006045 and parameters: {'n_estimators': 124, 'max_depth': 10.408732610452157, 'min_samples_split': 8, 'min_samples_leaf': 9, 'max_samples': 0.7289930711085234}. Best is trial 19 with value: 0.8450223745203264.\n",
            "[I 2020-08-11 13:52:57,020] Trial 60 finished with value: 0.8441895905714121 and parameters: {'n_estimators': 117, 'max_depth': 17.238904645977584, 'min_samples_split': 4, 'min_samples_leaf': 8, 'max_samples': 0.6221671740813114}. Best is trial 19 with value: 0.8450223745203264.\n",
            "[I 2020-08-11 13:53:22,833] Trial 61 finished with value: 0.8444709440393124 and parameters: {'n_estimators': 112, 'max_depth': 21.417149673383854, 'min_samples_split': 6, 'min_samples_leaf': 9, 'max_samples': 0.772505632823759}. Best is trial 19 with value: 0.8450223745203264.\n",
            "[I 2020-08-11 13:53:48,690] Trial 62 finished with value: 0.8442233559765457 and parameters: {'n_estimators': 119, 'max_depth': 23.941389777205675, 'min_samples_split': 5, 'min_samples_leaf': 10, 'max_samples': 0.7122994269372882}. Best is trial 19 with value: 0.8450223745203264.\n",
            "[I 2020-08-11 13:54:30,512] Trial 63 finished with value: 0.8438744849968313 and parameters: {'n_estimators': 199, 'max_depth': 14.026069318822817, 'min_samples_split': 6, 'min_samples_leaf': 7, 'max_samples': 0.7617642363416843}. Best is trial 19 with value: 0.8450223745203264.\n",
            "[I 2020-08-11 13:54:53,189] Trial 64 finished with value: 0.8448085695939639 and parameters: {'n_estimators': 103, 'max_depth': 20.881893539317005, 'min_samples_split': 6, 'min_samples_leaf': 8, 'max_samples': 0.691702495578662}. Best is trial 19 with value: 0.8450223745203264.\n",
            "[I 2020-08-11 13:55:16,040] Trial 65 finished with value: 0.84454970634293 and parameters: {'n_estimators': 104, 'max_depth': 28.26293523623087, 'min_samples_split': 9, 'min_samples_leaf': 8, 'max_samples': 0.6880184603538043}. Best is trial 19 with value: 0.8450223745203264.\n",
            "[I 2020-08-11 13:55:44,573] Trial 66 finished with value: 0.844279626163518 and parameters: {'n_estimators': 132, 'max_depth': 20.513227523952256, 'min_samples_split': 5, 'min_samples_leaf': 7, 'max_samples': 0.6567834248574349}. Best is trial 19 with value: 0.8450223745203264.\n",
            "[I 2020-08-11 13:56:13,717] Trial 67 finished with value: 0.8442683731393391 and parameters: {'n_estimators': 128, 'max_depth': 17.535130431710716, 'min_samples_split': 7, 'min_samples_leaf': 6, 'max_samples': 0.7298158666316521}. Best is trial 19 with value: 0.8450223745203264.\n",
            "[I 2020-08-11 13:56:40,881] Trial 68 finished with value: 0.8446509987587731 and parameters: {'n_estimators': 123, 'max_depth': 29.157720523739506, 'min_samples_split': 8, 'min_samples_leaf': 8, 'max_samples': 0.6980470875664142}. Best is trial 19 with value: 0.8450223745203264.\n",
            "[I 2020-08-11 13:57:16,611] Trial 69 finished with value: 0.8446397501674117 and parameters: {'n_estimators': 153, 'max_depth': 25.027467979440004, 'min_samples_split': 7, 'min_samples_leaf': 9, 'max_samples': 0.6767189713612894}. Best is trial 19 with value: 0.8450223745203264.\n",
            "[I 2020-08-11 13:57:46,445] Trial 70 finished with value: 0.8439645123565616 and parameters: {'n_estimators': 119, 'max_depth': 19.89421425327814, 'min_samples_split': 6, 'min_samples_leaf': 5, 'max_samples': 0.7855546868809073}. Best is trial 19 with value: 0.8450223745203264.\n",
            "[I 2020-08-11 13:58:10,725] Trial 71 finished with value: 0.8444596815162384 and parameters: {'n_estimators': 108, 'max_depth': 22.250455898025148, 'min_samples_split': 5, 'min_samples_leaf': 10, 'max_samples': 0.7476357650084051}. Best is trial 19 with value: 0.8450223745203264.\n",
            "[I 2020-08-11 13:58:36,231] Trial 72 finished with value: 0.8445272167593233 and parameters: {'n_estimators': 113, 'max_depth': 23.757104544034352, 'min_samples_split': 6, 'min_samples_leaf': 8, 'max_samples': 0.7100962049241828}. Best is trial 19 with value: 0.8450223745203264.\n",
            "[I 2020-08-11 13:59:08,015] Trial 73 finished with value: 0.844752281675721 and parameters: {'n_estimators': 136, 'max_depth': 31.917279808691823, 'min_samples_split': 7, 'min_samples_leaf': 9, 'max_samples': 0.7754469321284465}. Best is trial 19 with value: 0.8450223745203264.\n",
            "[I 2020-08-11 13:59:39,996] Trial 74 finished with value: 0.844707273378563 and parameters: {'n_estimators': 134, 'max_depth': 30.054199723285624, 'min_samples_split': 7, 'min_samples_leaf': 9, 'max_samples': 0.822486260088438}. Best is trial 19 with value: 0.8450223745203264.\n",
            "[I 2020-08-11 14:00:14,558] Trial 75 finished with value: 0.8448198194518446 and parameters: {'n_estimators': 144, 'max_depth': 31.52363839484344, 'min_samples_split': 8, 'min_samples_leaf': 7, 'max_samples': 0.7799794441246339}. Best is trial 19 with value: 0.8450223745203264.\n",
            "[I 2020-08-11 14:00:49,793] Trial 76 finished with value: 0.8445609739320814 and parameters: {'n_estimators': 145, 'max_depth': 26.81195065943289, 'min_samples_split': 8, 'min_samples_leaf': 7, 'max_samples': 0.8006833143645422}. Best is trial 19 with value: 0.8450223745203264.\n",
            "[I 2020-08-11 14:01:07,178] Trial 77 finished with value: 0.8403857796325024 and parameters: {'n_estimators': 139, 'max_depth': 7.194570236546017, 'min_samples_split': 9, 'min_samples_leaf': 6, 'max_samples': 0.7361076697866977}. Best is trial 19 with value: 0.8450223745203264.\n",
            "[I 2020-08-11 14:01:39,401] Trial 78 finished with value: 0.8446960108554891 and parameters: {'n_estimators': 137, 'max_depth': 31.891541548916617, 'min_samples_split': 8, 'min_samples_leaf': 7, 'max_samples': 0.752543119322305}. Best is trial 19 with value: 0.8450223745203264.\n",
            "[I 2020-08-11 14:01:54,375] Trial 79 finished with value: 0.8403745259750638 and parameters: {'n_estimators': 143, 'max_depth': 5.050064132899242, 'min_samples_split': 9, 'min_samples_leaf': 3, 'max_samples': 0.7946188533356843}. Best is trial 19 with value: 0.8450223745203264.\n",
            "[I 2020-08-11 14:02:23,178] Trial 80 finished with value: 0.8445497057096704 and parameters: {'n_estimators': 130, 'max_depth': 26.43673302857908, 'min_samples_split': 10, 'min_samples_leaf': 9, 'max_samples': 0.7227122114911654}. Best is trial 19 with value: 0.8450223745203264.\n",
            "[I 2020-08-11 14:02:58,743] Trial 81 finished with value: 0.8444934456548527 and parameters: {'n_estimators': 151, 'max_depth': 29.490638122838323, 'min_samples_split': 7, 'min_samples_leaf': 8, 'max_samples': 0.7823515647400408}. Best is trial 19 with value: 0.8450223745203264.\n",
            "[I 2020-08-11 14:03:31,835] Trial 82 finished with value: 0.8444596859490561 and parameters: {'n_estimators': 135, 'max_depth': 24.33092469682241, 'min_samples_split': 6, 'min_samples_leaf': 7, 'max_samples': 0.8131861761556853}. Best is trial 19 with value: 0.8450223745203264.\n",
            "[I 2020-08-11 14:04:01,138] Trial 83 finished with value: 0.84457222758952 and parameters: {'n_estimators': 125, 'max_depth': 31.580639484459105, 'min_samples_split': 7, 'min_samples_leaf': 8, 'max_samples': 0.7745727264034672}. Best is trial 19 with value: 0.8450223745203264.\n",
            "[I 2020-08-11 14:04:31,808] Trial 84 finished with value: 0.8447072689457453 and parameters: {'n_estimators': 127, 'max_depth': 21.14251806019696, 'min_samples_split': 11, 'min_samples_leaf': 6, 'max_samples': 0.7630902073531439}. Best is trial 19 with value: 0.8450223745203264.\n",
            "[I 2020-08-11 14:05:07,793] Trial 85 finished with value: 0.8443584036653677 and parameters: {'n_estimators': 158, 'max_depth': 15.718978825902637, 'min_samples_split': 8, 'min_samples_leaf': 8, 'max_samples': 0.8463128109401373}. Best is trial 19 with value: 0.8450223745203264.\n",
            "[I 2020-08-11 14:05:39,105] Trial 86 finished with value: 0.8443471487414097 and parameters: {'n_estimators': 147, 'max_depth': 18.292971229265476, 'min_samples_split': 6, 'min_samples_leaf': 9, 'max_samples': 0.6932731791678715}. Best is trial 19 with value: 0.8450223745203264.\n",
            "[I 2020-08-11 14:06:06,663] Trial 87 finished with value: 0.8443246363604551 and parameters: {'n_estimators': 121, 'max_depth': 28.21265900923431, 'min_samples_split': 5, 'min_samples_leaf': 6, 'max_samples': 0.6813260961819253}. Best is trial 19 with value: 0.8450223745203264.\n",
            "[I 2020-08-11 14:06:41,317] Trial 88 finished with value: 0.8444484246925015 and parameters: {'n_estimators': 141, 'max_depth': 25.867829322515828, 'min_samples_split': 7, 'min_samples_leaf': 7, 'max_samples': 0.8084634101591117}. Best is trial 19 with value: 0.8450223745203264.\n",
            "[I 2020-08-11 14:07:13,036] Trial 89 finished with value: 0.8443246319276374 and parameters: {'n_estimators': 131, 'max_depth': 23.031407513531686, 'min_samples_split': 9, 'min_samples_leaf': 11, 'max_samples': 0.792583631339805}. Best is trial 19 with value: 0.8450223745203264.\n",
            "[I 2020-08-11 14:07:38,192] Trial 90 finished with value: 0.8435593781557307 and parameters: {'n_estimators': 135, 'max_depth': 13.479801634859962, 'min_samples_split': 6, 'min_samples_leaf': 10, 'max_samples': 0.6654311093663284}. Best is trial 19 with value: 0.8450223745203264.\n",
            "[I 2020-08-11 14:08:05,205] Trial 91 finished with value: 0.8444484297585788 and parameters: {'n_estimators': 118, 'max_depth': 31.968016749115865, 'min_samples_split': 6, 'min_samples_leaf': 10, 'max_samples': 0.7678401323605439}. Best is trial 19 with value: 0.8450223745203264.\n",
            "[I 2020-08-11 14:08:28,307] Trial 92 finished with value: 0.8443696566895467 and parameters: {'n_estimators': 102, 'max_depth': 21.84819073013954, 'min_samples_split': 5, 'min_samples_leaf': 9, 'max_samples': 0.7394645586773727}. Best is trial 19 with value: 0.8450223745203264.\n",
            "[I 2020-08-11 14:08:52,281] Trial 93 finished with value: 0.8444934412220352 and parameters: {'n_estimators': 105, 'max_depth': 19.88591133068111, 'min_samples_split': 4, 'min_samples_leaf': 10, 'max_samples': 0.7805620931054904}. Best is trial 19 with value: 0.8450223745203264.\n",
            "[I 2020-08-11 14:09:17,480] Trial 94 finished with value: 0.8444259300428174 and parameters: {'n_estimators': 115, 'max_depth': 17.108662307800053, 'min_samples_split': 7, 'min_samples_leaf': 11, 'max_samples': 0.7558924311630888}. Best is trial 19 with value: 0.8450223745203264.\n",
            "[I 2020-08-11 14:09:46,480] Trial 95 finished with value: 0.8443921583050871 and parameters: {'n_estimators': 123, 'max_depth': 25.258432926935694, 'min_samples_split': 6, 'min_samples_leaf': 8, 'max_samples': 0.7672322430574665}. Best is trial 19 with value: 0.8450223745203264.\n",
            "[I 2020-08-11 14:10:12,735] Trial 96 finished with value: 0.8443696471906519 and parameters: {'n_estimators': 111, 'max_depth': 22.738390316154824, 'min_samples_split': 7, 'min_samples_leaf': 7, 'max_samples': 0.7455792725038007}. Best is trial 19 with value: 0.8450223745203264.\n",
            "[I 2020-08-11 14:10:42,492] Trial 97 finished with value: 0.844212092820212 and parameters: {'n_estimators': 126, 'max_depth': 29.188555034379757, 'min_samples_split': 8, 'min_samples_leaf': 8, 'max_samples': 0.776049263698167}. Best is trial 19 with value: 0.8450223745203264.\n",
            "[I 2020-08-11 14:11:11,014] Trial 98 finished with value: 0.8444371761011402 and parameters: {'n_estimators': 129, 'max_depth': 19.13194576602338, 'min_samples_split': 10, 'min_samples_leaf': 5, 'max_samples': 0.6353261193652407}. Best is trial 19 with value: 0.8450223745203264.\n",
            "[I 2020-08-11 14:11:42,038] Trial 99 finished with value: 0.8448423103019709 and parameters: {'n_estimators': 121, 'max_depth': 27.18965586280692, 'min_samples_split': 6, 'min_samples_leaf': 10, 'max_samples': 0.9712687751951766}. Best is trial 19 with value: 0.8450223745203264.\n"
          ],
          "name": "stderr"
        },
        {
          "output_type": "stream",
          "text": [
            "Accuracy: 0.8450223745203264\n",
            "Best hyperparameters: {'n_estimators': 121, 'max_depth': 20.361764038678608, 'min_samples_split': 9, 'min_samples_leaf': 6, 'max_samples': 0.6825086541719386}\n"
          ],
          "name": "stdout"
        }
      ]
    },
    {
      "cell_type": "markdown",
      "metadata": {
        "id": "LaCwNuQc9fVm",
        "colab_type": "text"
      },
      "source": [
        "# Test "
      ]
    },
    {
      "cell_type": "code",
      "metadata": {
        "id": "3IjfE_CQDb3T",
        "colab_type": "code",
        "colab": {}
      },
      "source": [
        "test=pd.read_csv('/content/drive/My Drive/Colab Notebooks/Competitions/Agriculture/test_pFkWwen.csv')"
      ],
      "execution_count": null,
      "outputs": []
    },
    {
      "cell_type": "code",
      "metadata": {
        "id": "JQLTCfXZkwDJ",
        "colab_type": "code",
        "colab": {
          "base_uri": "https://localhost:8080/",
          "height": 286
        },
        "outputId": "ed03a2f6-fc3a-4f26-f3aa-d3b6711d56a4"
      },
      "source": [
        "test.info()"
      ],
      "execution_count": null,
      "outputs": [
        {
          "output_type": "stream",
          "text": [
            "<class 'pandas.core.frame.DataFrame'>\n",
            "RangeIndex: 59310 entries, 0 to 59309\n",
            "Data columns (total 9 columns):\n",
            " #   Column                   Non-Null Count  Dtype  \n",
            "---  ------                   --------------  -----  \n",
            " 0   ID                       59310 non-null  object \n",
            " 1   Estimated_Insects_Count  59310 non-null  int64  \n",
            " 2   Crop_Type                59310 non-null  int64  \n",
            " 3   Soil_Type                59310 non-null  int64  \n",
            " 4   Pesticide_Use_Category   59310 non-null  int64  \n",
            " 5   Number_Doses_Week        59310 non-null  int64  \n",
            " 6   Number_Weeks_Used        53417 non-null  float64\n",
            " 7   Number_Weeks_Quit        59310 non-null  int64  \n",
            " 8   Season                   59310 non-null  int64  \n",
            "dtypes: float64(1), int64(7), object(1)\n",
            "memory usage: 4.1+ MB\n"
          ],
          "name": "stdout"
        }
      ]
    },
    {
      "cell_type": "code",
      "metadata": {
        "id": "pzxZ0xxX9ipk",
        "colab_type": "code",
        "colab": {}
      },
      "source": [
        "test=fill_weeks_used(test,knn_weeks_used)"
      ],
      "execution_count": null,
      "outputs": []
    },
    {
      "cell_type": "code",
      "metadata": {
        "id": "w5M4ePDj9oYJ",
        "colab_type": "code",
        "colab": {}
      },
      "source": [
        "ohe_table_test=pd.DataFrame(ohe.transform(test[['Pesticide_Use_Category','Season']]),columns=['Never','PrevUsed','Season1','Season2'])\n",
        "test=pd.concat([test,ohe_table_test],axis=1)"
      ],
      "execution_count": null,
      "outputs": []
    },
    {
      "cell_type": "code",
      "metadata": {
        "id": "UCNToEM998jn",
        "colab_type": "code",
        "colab": {
          "base_uri": "https://localhost:8080/",
          "height": 215
        },
        "outputId": "2e19631e-4251-482b-8735-fe01b1bbd7cf"
      },
      "source": [
        "test.head()"
      ],
      "execution_count": null,
      "outputs": [
        {
          "output_type": "execute_result",
          "data": {
            "text/html": [
              "<div>\n",
              "<style scoped>\n",
              "    .dataframe tbody tr th:only-of-type {\n",
              "        vertical-align: middle;\n",
              "    }\n",
              "\n",
              "    .dataframe tbody tr th {\n",
              "        vertical-align: top;\n",
              "    }\n",
              "\n",
              "    .dataframe thead th {\n",
              "        text-align: right;\n",
              "    }\n",
              "</style>\n",
              "<table border=\"1\" class=\"dataframe\">\n",
              "  <thead>\n",
              "    <tr style=\"text-align: right;\">\n",
              "      <th></th>\n",
              "      <th>ID</th>\n",
              "      <th>Estimated_Insects_Count</th>\n",
              "      <th>Crop_Type</th>\n",
              "      <th>Soil_Type</th>\n",
              "      <th>Pesticide_Use_Category</th>\n",
              "      <th>Number_Doses_Week</th>\n",
              "      <th>Number_Weeks_Quit</th>\n",
              "      <th>Season</th>\n",
              "      <th>Number_Weeks_Used</th>\n",
              "      <th>Never</th>\n",
              "      <th>PrevUsed</th>\n",
              "      <th>Season1</th>\n",
              "      <th>Season2</th>\n",
              "    </tr>\n",
              "  </thead>\n",
              "  <tbody>\n",
              "    <tr>\n",
              "      <th>0</th>\n",
              "      <td>F00000002</td>\n",
              "      <td>188</td>\n",
              "      <td>1</td>\n",
              "      <td>1</td>\n",
              "      <td>1</td>\n",
              "      <td>0</td>\n",
              "      <td>0</td>\n",
              "      <td>2</td>\n",
              "      <td>28.62397</td>\n",
              "      <td>0.0</td>\n",
              "      <td>0.0</td>\n",
              "      <td>1.0</td>\n",
              "      <td>0.0</td>\n",
              "    </tr>\n",
              "    <tr>\n",
              "      <th>1</th>\n",
              "      <td>F00000007</td>\n",
              "      <td>410</td>\n",
              "      <td>1</td>\n",
              "      <td>1</td>\n",
              "      <td>1</td>\n",
              "      <td>0</td>\n",
              "      <td>0</td>\n",
              "      <td>2</td>\n",
              "      <td>0.00000</td>\n",
              "      <td>0.0</td>\n",
              "      <td>0.0</td>\n",
              "      <td>1.0</td>\n",
              "      <td>0.0</td>\n",
              "    </tr>\n",
              "    <tr>\n",
              "      <th>2</th>\n",
              "      <td>F00000011</td>\n",
              "      <td>626</td>\n",
              "      <td>1</td>\n",
              "      <td>0</td>\n",
              "      <td>1</td>\n",
              "      <td>0</td>\n",
              "      <td>0</td>\n",
              "      <td>2</td>\n",
              "      <td>0.00000</td>\n",
              "      <td>0.0</td>\n",
              "      <td>0.0</td>\n",
              "      <td>1.0</td>\n",
              "      <td>0.0</td>\n",
              "    </tr>\n",
              "    <tr>\n",
              "      <th>3</th>\n",
              "      <td>F00000013</td>\n",
              "      <td>731</td>\n",
              "      <td>1</td>\n",
              "      <td>0</td>\n",
              "      <td>1</td>\n",
              "      <td>0</td>\n",
              "      <td>0</td>\n",
              "      <td>2</td>\n",
              "      <td>0.00000</td>\n",
              "      <td>0.0</td>\n",
              "      <td>0.0</td>\n",
              "      <td>1.0</td>\n",
              "      <td>0.0</td>\n",
              "    </tr>\n",
              "    <tr>\n",
              "      <th>4</th>\n",
              "      <td>F00000014</td>\n",
              "      <td>789</td>\n",
              "      <td>0</td>\n",
              "      <td>0</td>\n",
              "      <td>1</td>\n",
              "      <td>0</td>\n",
              "      <td>0</td>\n",
              "      <td>1</td>\n",
              "      <td>0.00000</td>\n",
              "      <td>0.0</td>\n",
              "      <td>0.0</td>\n",
              "      <td>0.0</td>\n",
              "      <td>0.0</td>\n",
              "    </tr>\n",
              "  </tbody>\n",
              "</table>\n",
              "</div>"
            ],
            "text/plain": [
              "          ID  Estimated_Insects_Count  Crop_Type  ...  PrevUsed  Season1  Season2\n",
              "0  F00000002                      188          1  ...       0.0      1.0      0.0\n",
              "1  F00000007                      410          1  ...       0.0      1.0      0.0\n",
              "2  F00000011                      626          1  ...       0.0      1.0      0.0\n",
              "3  F00000013                      731          1  ...       0.0      1.0      0.0\n",
              "4  F00000014                      789          0  ...       0.0      0.0      0.0\n",
              "\n",
              "[5 rows x 13 columns]"
            ]
          },
          "metadata": {
            "tags": []
          },
          "execution_count": 69
        }
      ]
    },
    {
      "cell_type": "code",
      "metadata": {
        "id": "PP8u1ML29-Yi",
        "colab_type": "code",
        "colab": {}
      },
      "source": [
        "test_id=test['ID']\n",
        "test.drop('ID',axis=1,inplace=True)"
      ],
      "execution_count": null,
      "outputs": []
    },
    {
      "cell_type": "code",
      "metadata": {
        "id": "_UB8FLGZEwLh",
        "colab_type": "code",
        "colab": {}
      },
      "source": [
        "test['Total_doses']=test['Number_Doses_Week']*test['Number_Weeks_Used']"
      ],
      "execution_count": null,
      "outputs": []
    },
    {
      "cell_type": "code",
      "metadata": {
        "id": "H0aQKcqaEwN4",
        "colab_type": "code",
        "colab": {}
      },
      "source": [
        "train['Total_weeks']=train['Number_Doses_Week']+train['Number_Weeks_Quit']"
      ],
      "execution_count": null,
      "outputs": []
    },
    {
      "cell_type": "code",
      "metadata": {
        "id": "LdlaLKooC4sD",
        "colab_type": "code",
        "colab": {}
      },
      "source": [
        "rf_final=RandomForestClassifier(n_estimators=121, max_depth=20.361764038678608,\n",
        "                                min_samples_split= 9,min_samples_leaf= 6,max_samples= 0.6825086541719386)"
      ],
      "execution_count": null,
      "outputs": []
    },
    {
      "cell_type": "code",
      "metadata": {
        "id": "7kEqx6nzD1Tc",
        "colab_type": "code",
        "colab": {
          "base_uri": "https://localhost:8080/",
          "height": 168
        },
        "outputId": "93453c85-0acc-443f-c7b1-fda6d6ca6757"
      },
      "source": [
        "rf_final.fit(x,y)"
      ],
      "execution_count": null,
      "outputs": [
        {
          "output_type": "execute_result",
          "data": {
            "text/plain": [
              "RandomForestClassifier(bootstrap=True, ccp_alpha=0.0, class_weight=None,\n",
              "                       criterion='gini', max_depth=20.361764038678608,\n",
              "                       max_features='auto', max_leaf_nodes=None,\n",
              "                       max_samples=0.6825086541719386,\n",
              "                       min_impurity_decrease=0.0, min_impurity_split=None,\n",
              "                       min_samples_leaf=6, min_samples_split=9,\n",
              "                       min_weight_fraction_leaf=0.0, n_estimators=121,\n",
              "                       n_jobs=None, oob_score=False, random_state=None,\n",
              "                       verbose=0, warm_start=False)"
            ]
          },
          "metadata": {
            "tags": []
          },
          "execution_count": 74
        }
      ]
    },
    {
      "cell_type": "code",
      "metadata": {
        "id": "wFuimwZEEllN",
        "colab_type": "code",
        "colab": {}
      },
      "source": [
        "pred=rf_final.predict(test[features])"
      ],
      "execution_count": null,
      "outputs": []
    },
    {
      "cell_type": "code",
      "metadata": {
        "id": "IZrvYAIIEqf_",
        "colab_type": "code",
        "colab": {
          "base_uri": "https://localhost:8080/",
          "height": 84
        },
        "outputId": "ca40c677-ca9f-438e-e85d-ecd984cae0c1"
      },
      "source": [
        "y.value_counts()"
      ],
      "execution_count": null,
      "outputs": [
        {
          "output_type": "execute_result",
          "data": {
            "text/plain": [
              "0    74238\n",
              "1    12307\n",
              "2     2313\n",
              "Name: Crop_Damage, dtype: int64"
            ]
          },
          "metadata": {
            "tags": []
          },
          "execution_count": 83
        }
      ]
    },
    {
      "cell_type": "code",
      "metadata": {
        "id": "6QI0f-UUFx-E",
        "colab_type": "code",
        "colab": {}
      },
      "source": [
        "result=pd.DataFrame()\n",
        "result['ID']=test_id\n",
        "result['Crop_Damage']=pred"
      ],
      "execution_count": null,
      "outputs": []
    },
    {
      "cell_type": "code",
      "metadata": {
        "id": "Zui613AKHlo-",
        "colab_type": "code",
        "colab": {
          "base_uri": "https://localhost:8080/",
          "height": 402
        },
        "outputId": "536d5d86-e36a-4373-b57d-8b38f8be514e"
      },
      "source": [
        "result"
      ],
      "execution_count": null,
      "outputs": [
        {
          "output_type": "execute_result",
          "data": {
            "text/html": [
              "<div>\n",
              "<style scoped>\n",
              "    .dataframe tbody tr th:only-of-type {\n",
              "        vertical-align: middle;\n",
              "    }\n",
              "\n",
              "    .dataframe tbody tr th {\n",
              "        vertical-align: top;\n",
              "    }\n",
              "\n",
              "    .dataframe thead th {\n",
              "        text-align: right;\n",
              "    }\n",
              "</style>\n",
              "<table border=\"1\" class=\"dataframe\">\n",
              "  <thead>\n",
              "    <tr style=\"text-align: right;\">\n",
              "      <th></th>\n",
              "      <th>ID</th>\n",
              "      <th>Crop_Damage</th>\n",
              "    </tr>\n",
              "  </thead>\n",
              "  <tbody>\n",
              "    <tr>\n",
              "      <th>0</th>\n",
              "      <td>F00000002</td>\n",
              "      <td>1</td>\n",
              "    </tr>\n",
              "    <tr>\n",
              "      <th>1</th>\n",
              "      <td>F00000007</td>\n",
              "      <td>1</td>\n",
              "    </tr>\n",
              "    <tr>\n",
              "      <th>2</th>\n",
              "      <td>F00000011</td>\n",
              "      <td>1</td>\n",
              "    </tr>\n",
              "    <tr>\n",
              "      <th>3</th>\n",
              "      <td>F00000013</td>\n",
              "      <td>1</td>\n",
              "    </tr>\n",
              "    <tr>\n",
              "      <th>4</th>\n",
              "      <td>F00000014</td>\n",
              "      <td>1</td>\n",
              "    </tr>\n",
              "    <tr>\n",
              "      <th>...</th>\n",
              "      <td>...</td>\n",
              "      <td>...</td>\n",
              "    </tr>\n",
              "    <tr>\n",
              "      <th>59305</th>\n",
              "      <td>F00155937</td>\n",
              "      <td>0</td>\n",
              "    </tr>\n",
              "    <tr>\n",
              "      <th>59306</th>\n",
              "      <td>F00155940</td>\n",
              "      <td>0</td>\n",
              "    </tr>\n",
              "    <tr>\n",
              "      <th>59307</th>\n",
              "      <td>F00155941</td>\n",
              "      <td>0</td>\n",
              "    </tr>\n",
              "    <tr>\n",
              "      <th>59308</th>\n",
              "      <td>F00155943</td>\n",
              "      <td>0</td>\n",
              "    </tr>\n",
              "    <tr>\n",
              "      <th>59309</th>\n",
              "      <td>F00155944</td>\n",
              "      <td>0</td>\n",
              "    </tr>\n",
              "  </tbody>\n",
              "</table>\n",
              "<p>59310 rows × 2 columns</p>\n",
              "</div>"
            ],
            "text/plain": [
              "              ID  Crop_Damage\n",
              "0      F00000002            1\n",
              "1      F00000007            1\n",
              "2      F00000011            1\n",
              "3      F00000013            1\n",
              "4      F00000014            1\n",
              "...          ...          ...\n",
              "59305  F00155937            0\n",
              "59306  F00155940            0\n",
              "59307  F00155941            0\n",
              "59308  F00155943            0\n",
              "59309  F00155944            0\n",
              "\n",
              "[59310 rows x 2 columns]"
            ]
          },
          "metadata": {
            "tags": []
          },
          "execution_count": 85
        }
      ]
    },
    {
      "cell_type": "code",
      "metadata": {
        "id": "Ta7fhe8XHmvK",
        "colab_type": "code",
        "colab": {
          "base_uri": "https://localhost:8080/",
          "height": 84
        },
        "outputId": "8aea515e-8f74-4677-8712-cd51c56e7e18"
      },
      "source": [
        "result['Crop_Damage'].value_counts()"
      ],
      "execution_count": null,
      "outputs": [
        {
          "output_type": "execute_result",
          "data": {
            "text/plain": [
              "0    56752\n",
              "1     2547\n",
              "2       11\n",
              "Name: Crop_Damage, dtype: int64"
            ]
          },
          "metadata": {
            "tags": []
          },
          "execution_count": 86
        }
      ]
    },
    {
      "cell_type": "code",
      "metadata": {
        "id": "WFrTSJ9RHqic",
        "colab_type": "code",
        "colab": {}
      },
      "source": [
        "result.to_csv('Submission1.csv',index=False)"
      ],
      "execution_count": null,
      "outputs": []
    },
    {
      "cell_type": "code",
      "metadata": {
        "id": "d30mzURBDyKB",
        "colab_type": "code",
        "colab": {}
      },
      "source": [
        ""
      ],
      "execution_count": null,
      "outputs": []
    }
  ]
}